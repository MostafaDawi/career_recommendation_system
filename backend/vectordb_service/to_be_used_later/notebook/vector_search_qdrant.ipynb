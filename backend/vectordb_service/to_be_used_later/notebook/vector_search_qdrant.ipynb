{
 "cells": [
  {
   "cell_type": "markdown",
   "id": "412068d6",
   "metadata": {},
   "source": [
    "# Vector Search with Qdrant\n"
   ]
  },
  {
   "cell_type": "markdown",
   "id": "7e3d2706",
   "metadata": {},
   "source": [
    "## Step 0: Setup\n",
    "\n",
    "### Docker\n",
    " pull the image and start the container using the following commands:\n",
    "\n",
    "```bash\n",
    "docker pull qdrant/qdrant\n",
    "\n",
    "docker run -p 6333:6333 -p 6334:6334 \\\n",
    "   -v \"$(pwd)/qdrant_storage:/qdrant/storage:z\" \\\n",
    "   qdrant/qdrant\n",
    "\n",
    "windows:\n",
    "docker run -p 6333:6333 -p 6334:6334 -v \"path_name/qdrant_storage:/qdrant/storage\" qdrant/qdrant\n",
    "\n",
    "```\n",
    "\n",
    "- 6333 – REST API port\n",
    "- 6334 – gRPC API port\n",
    "\n",
    "When you're running Qdrant in Docker, the Web UI is available at http://localhost:6333/dashboard\n",
    "\n",
    "### Installing Required Libraries\n",
    "\n",
    "- The `qdrant-client` package. We'll be using the Python client, but Qdrant also offers official clients for JavaScript/TypeScript, Go, and Rust, so you can choose the best fit for your own projects.\n",
    "\n",
    "- The `fastembed` package - an optimized embedding (data vectorization) solution designed specifically for Qdrant. Make sure you install version `>= 1.14.2` to use the **local inference** with Qdrant."
   ]
  },
  {
   "cell_type": "code",
   "execution_count": 1,
   "id": "0c30d39b",
   "metadata": {},
   "outputs": [],
   "source": [
    "!python -m pip install -q \"qdrant-client[fastembed]>=1.14.2\""
   ]
  },
  {
   "cell_type": "markdown",
   "id": "52904ad3",
   "metadata": {},
   "source": [
    "## Step 1: Import Required Libraries & Connect to Qdrant\n",
    "\n",
    "import the necessary modules from the `qdrant-client` package.\n",
    "\n",
    "The `QdrantClient` class allows us to establish a connection to the Qdrant service,  \n",
    "while the `models` module provides definitions for various configurations and parameters we’ll use."
   ]
  },
  {
   "cell_type": "code",
   "execution_count": 2,
   "id": "2caceaae",
   "metadata": {},
   "outputs": [
    {
     "name": "stderr",
     "output_type": "stream",
     "text": [
      "c:\\Users\\User\\.virtualenvs\\career_recommendation_system-rbNTdb32\\Lib\\site-packages\\tqdm\\auto.py:21: TqdmWarning: IProgress not found. Please update jupyter and ipywidgets. See https://ipywidgets.readthedocs.io/en/stable/user_install.html\n",
      "  from .autonotebook import tqdm as notebook_tqdm\n"
     ]
    }
   ],
   "source": [
    "from qdrant_client import QdrantClient, models"
   ]
  },
  {
   "cell_type": "markdown",
   "id": "75ab9d9d",
   "metadata": {},
   "source": [
    "Initialize the client"
   ]
  },
  {
   "cell_type": "code",
   "execution_count": 3,
   "id": "527eeefc",
   "metadata": {},
   "outputs": [],
   "source": [
    "client = QdrantClient(\"http://localhost:6333\") #connecting to local Qdrant instance"
   ]
  },
  {
   "cell_type": "markdown",
   "id": "1eaebe42",
   "metadata": {},
   "source": [
    "## Step 2: Study the Dataset\n",
    "\n",
    "To build a working vector search solution (and, more generally, to understand if/when/how it’s needed), it's good to study the dataset and figure out the nature and structure of the data we’re working with, for example:\n",
    "\n",
    "- modality — is it text, images, videos, a combination?  \n",
    "- specifics — if it’s text: language used, how big are the text pieces, are there any special characters, etc.  \n",
    "\n",
    "It will help us define:\n",
    "- the right data \"schema\" (what to vectorize, what to store as metadata, etc);  \n",
    "- the right embedding model (the best fit based on the domain, precision & resource requirements). \n"
   ]
  },
  {
   "cell_type": "code",
   "execution_count": 4,
   "id": "4c3f5b1d",
   "metadata": {},
   "outputs": [],
   "source": [
    "import pandas as pd\n",
    "\n",
    "postings_df =pd.read_csv('data/postings.csv')\n",
    "companies_df = pd.read_csv('data/companies.csv')"
   ]
  },
  {
   "cell_type": "code",
   "execution_count": 5,
   "id": "b90d1672",
   "metadata": {},
   "outputs": [
    {
     "data": {
      "text/plain": [
       "(3839319, 244730)"
      ]
     },
     "execution_count": 5,
     "metadata": {},
     "output_type": "execute_result"
    }
   ],
   "source": [
    "postings_df.size, companies_df.size"
   ]
  },
  {
   "cell_type": "code",
   "execution_count": 6,
   "id": "b24bf0e0",
   "metadata": {},
   "outputs": [
    {
     "data": {
      "text/plain": [
       "Index(['company_id', 'name', 'description', 'company_size', 'state', 'country',\n",
       "       'city', 'zip_code', 'address', 'url'],\n",
       "      dtype='object')"
      ]
     },
     "execution_count": 6,
     "metadata": {},
     "output_type": "execute_result"
    }
   ],
   "source": [
    "companies_df.columns"
   ]
  },
  {
   "cell_type": "code",
   "execution_count": 7,
   "id": "5e3408b5",
   "metadata": {},
   "outputs": [
    {
     "data": {
      "text/plain": [
       "Index(['job_id', 'company_name', 'title', 'description', 'max_salary',\n",
       "       'pay_period', 'location', 'company_id', 'views', 'med_salary',\n",
       "       'min_salary', 'formatted_work_type', 'applies', 'original_listed_time',\n",
       "       'remote_allowed', 'job_posting_url', 'application_url',\n",
       "       'application_type', 'expiry', 'closed_time',\n",
       "       'formatted_experience_level', 'skills_desc', 'listed_time',\n",
       "       'posting_domain', 'sponsored', 'work_type', 'currency',\n",
       "       'compensation_type', 'normalized_salary', 'zip_code', 'fips'],\n",
       "      dtype='object')"
      ]
     },
     "execution_count": 7,
     "metadata": {},
     "output_type": "execute_result"
    }
   ],
   "source": [
    "postings_df.columns"
   ]
  },
  {
   "cell_type": "code",
   "execution_count": 8,
   "id": "55ef7835",
   "metadata": {},
   "outputs": [],
   "source": [
    "# Join company name\n",
    "# Merge but keep both columns temporarily\n",
    "df = postings_df.merge(companies_df[['company_id', 'name']], on='company_id', how='left')\n",
    "df['company_name'] = df['company_name'].fillna(df['name'])\n",
    "df = df.drop(columns=['name'])  # drop the extra column\n"
   ]
  },
  {
   "cell_type": "code",
   "execution_count": 9,
   "id": "ba2d711f",
   "metadata": {},
   "outputs": [
    {
     "data": {
      "text/plain": [
       "Index(['job_id', 'company_name', 'title', 'description', 'max_salary',\n",
       "       'pay_period', 'location', 'company_id', 'views', 'med_salary',\n",
       "       'min_salary', 'formatted_work_type', 'applies', 'original_listed_time',\n",
       "       'remote_allowed', 'job_posting_url', 'application_url',\n",
       "       'application_type', 'expiry', 'closed_time',\n",
       "       'formatted_experience_level', 'skills_desc', 'listed_time',\n",
       "       'posting_domain', 'sponsored', 'work_type', 'currency',\n",
       "       'compensation_type', 'normalized_salary', 'zip_code', 'fips'],\n",
       "      dtype='object')"
      ]
     },
     "execution_count": 9,
     "metadata": {},
     "output_type": "execute_result"
    }
   ],
   "source": [
    "df.columns"
   ]
  },
  {
   "cell_type": "code",
   "execution_count": 10,
   "id": "91496702",
   "metadata": {},
   "outputs": [],
   "source": [
    "df = df.dropna(subset=['description', 'title','company_name', 'skills_desc'])  # remove rows without content\n"
   ]
  },
  {
   "cell_type": "code",
   "execution_count": 11,
   "id": "a0d627d0",
   "metadata": {},
   "outputs": [
    {
     "data": {
      "text/plain": [
       "(2436, 31)"
      ]
     },
     "execution_count": 11,
     "metadata": {},
     "output_type": "execute_result"
    }
   ],
   "source": [
    "df.shape"
   ]
  },
  {
   "cell_type": "code",
   "execution_count": 12,
   "id": "cdfb4f6f",
   "metadata": {},
   "outputs": [
    {
     "data": {
      "text/plain": [
       "(75516,\n",
       " Index(['job_id', 'company_name', 'title', 'description', 'max_salary',\n",
       "        'pay_period', 'location', 'company_id', 'views', 'med_salary',\n",
       "        'min_salary', 'formatted_work_type', 'applies', 'original_listed_time',\n",
       "        'remote_allowed', 'job_posting_url', 'application_url',\n",
       "        'application_type', 'expiry', 'closed_time',\n",
       "        'formatted_experience_level', 'skills_desc', 'listed_time',\n",
       "        'posting_domain', 'sponsored', 'work_type', 'currency',\n",
       "        'compensation_type', 'normalized_salary', 'zip_code', 'fips'],\n",
       "       dtype='object'),\n",
       "              job_id     max_salary    company_id        views     med_salary  \\\n",
       " count  2.436000e+03     201.000000  2.436000e+03  2365.000000     134.000000   \n",
       " mean   3.889318e+09   66109.874179  1.991821e+07     7.860042   10278.119328   \n",
       " std    2.076658e+08   66546.042596  3.425119e+07    29.748329   49621.202976   \n",
       " min    9.217160e+05      15.000000  1.353000e+03     1.000000      12.000000   \n",
       " 25%    3.895596e+09      35.000000  2.250300e+04     2.000000      18.000000   \n",
       " 50%    3.902923e+09   65000.000000  9.202090e+05     3.000000      24.500000   \n",
       " 75%    3.905287e+09  100000.000000  1.827282e+07     5.000000      52.000000   \n",
       " max    3.906246e+09  360000.000000  1.014784e+08   708.000000  525000.000000   \n",
       " \n",
       "           min_salary     applies  original_listed_time  remote_allowed  \\\n",
       " count     201.000000  247.000000          2.436000e+03            76.0   \n",
       " mean    49964.247015    9.121457          1.713192e+12             1.0   \n",
       " std     46428.195286   26.576195          3.619363e+08             0.0   \n",
       " min        10.000000    1.000000          1.711291e+12             1.0   \n",
       " 25%        26.680000    1.000000          1.712895e+12             1.0   \n",
       " 50%     50000.000000    2.000000          1.713390e+12             1.0   \n",
       " 75%     80000.000000    6.000000          1.713475e+12             1.0   \n",
       " max    270000.000000  248.000000          1.713572e+12             1.0   \n",
       " \n",
       "              expiry   closed_time   listed_time  sponsored  normalized_salary  \\\n",
       " count  2.436000e+03  3.600000e+01  2.436000e+03     2436.0       3.350000e+02   \n",
       " mean   1.715800e+12  1.713224e+12  1.713198e+12        0.0       6.468434e+05   \n",
       " std    5.129668e+08  2.603865e+08  3.506511e+08        0.0       6.048307e+06   \n",
       " min    1.714938e+12  1.712356e+12  1.712346e+12        0.0       4.200000e+03   \n",
       " 25%    1.715487e+12  1.713222e+12  1.712895e+12        0.0       4.264000e+04   \n",
       " 50%    1.715983e+12  1.713283e+12  1.713391e+12        0.0       6.000000e+04   \n",
       " 75%    1.716067e+12  1.713285e+12  1.713475e+12        0.0       9.050000e+04   \n",
       " max    1.728951e+12  1.713499e+12  1.713572e+12        0.0       6.489600e+07   \n",
       " \n",
       "            zip_code          fips  \n",
       " count   2027.000000   1918.000000  \n",
       " mean   48870.026147  29268.304484  \n",
       " std    29750.807921  15144.758007  \n",
       " min     1103.000000   1007.000000  \n",
       " 25%    21201.000000  17031.000000  \n",
       " 50%    46201.000000  29095.000000  \n",
       " 75%    76102.000000  42010.500000  \n",
       " max    99801.000000  56043.000000  )"
      ]
     },
     "execution_count": 12,
     "metadata": {},
     "output_type": "execute_result"
    }
   ],
   "source": [
    "df.size, df.columns, df.describe()"
   ]
  },
  {
   "cell_type": "code",
   "execution_count": 13,
   "id": "fdb3aae2",
   "metadata": {},
   "outputs": [],
   "source": [
    "# create a text field to embed\n",
    "df['text'] = df['title'] + ' at ' + df['company_name'] + ' (' + df['location'] + ')' + '\\n\\n' + df['description']\n"
   ]
  },
  {
   "cell_type": "markdown",
   "id": "bc05f096",
   "metadata": {},
   "source": [
    "# Find a suitable embedding model\n",
    "\n",
    "\n",
    "**FastEmbed** is an optimized embedding solution designed specifically for Qdrant. It delivers low-latency, CPU-friendly embedding generation, eliminating the need for heavy frameworks like PyTorch or TensorFlow. It uses quantized model weights and ONNX Runtime, making it significantly faster than traditional Sentence Transformers on CPU while maintaining competitive accuracy.\n",
    "\n",
    "FastEmbed’s integration with Qdrant allows you to directly pass text or images to the Qdrant client for embedding.\n"
   ]
  },
  {
   "cell_type": "code",
   "execution_count": 14,
   "id": "16c6a33c",
   "metadata": {},
   "outputs": [
    {
     "data": {
      "text/plain": [
       "[{'model': 'BAAI/bge-base-en',\n",
       "  'sources': {'hf': 'Qdrant/fast-bge-base-en',\n",
       "   'url': 'https://storage.googleapis.com/qdrant-fastembed/fast-bge-base-en.tar.gz',\n",
       "   '_deprecated_tar_struct': True},\n",
       "  'model_file': 'model_optimized.onnx',\n",
       "  'description': 'Text embeddings, Unimodal (text), English, 512 input tokens truncation, Prefixes for queries/documents: necessary, 2023 year.',\n",
       "  'license': 'mit',\n",
       "  'size_in_GB': 0.42,\n",
       "  'additional_files': [],\n",
       "  'dim': 768,\n",
       "  'tasks': {}},\n",
       " {'model': 'BAAI/bge-base-en-v1.5',\n",
       "  'sources': {'hf': 'qdrant/bge-base-en-v1.5-onnx-q',\n",
       "   'url': 'https://storage.googleapis.com/qdrant-fastembed/fast-bge-base-en-v1.5.tar.gz',\n",
       "   '_deprecated_tar_struct': True},\n",
       "  'model_file': 'model_optimized.onnx',\n",
       "  'description': 'Text embeddings, Unimodal (text), English, 512 input tokens truncation, Prefixes for queries/documents: not so necessary, 2023 year.',\n",
       "  'license': 'mit',\n",
       "  'size_in_GB': 0.21,\n",
       "  'additional_files': [],\n",
       "  'dim': 768,\n",
       "  'tasks': {}},\n",
       " {'model': 'BAAI/bge-large-en-v1.5',\n",
       "  'sources': {'hf': 'qdrant/bge-large-en-v1.5-onnx',\n",
       "   'url': None,\n",
       "   '_deprecated_tar_struct': False},\n",
       "  'model_file': 'model.onnx',\n",
       "  'description': 'Text embeddings, Unimodal (text), English, 512 input tokens truncation, Prefixes for queries/documents: not so necessary, 2023 year.',\n",
       "  'license': 'mit',\n",
       "  'size_in_GB': 1.2,\n",
       "  'additional_files': [],\n",
       "  'dim': 1024,\n",
       "  'tasks': {}},\n",
       " {'model': 'BAAI/bge-small-en',\n",
       "  'sources': {'hf': 'Qdrant/bge-small-en',\n",
       "   'url': 'https://storage.googleapis.com/qdrant-fastembed/BAAI-bge-small-en.tar.gz',\n",
       "   '_deprecated_tar_struct': True},\n",
       "  'model_file': 'model_optimized.onnx',\n",
       "  'description': 'Text embeddings, Unimodal (text), English, 512 input tokens truncation, Prefixes for queries/documents: necessary, 2023 year.',\n",
       "  'license': 'mit',\n",
       "  'size_in_GB': 0.13,\n",
       "  'additional_files': [],\n",
       "  'dim': 384,\n",
       "  'tasks': {}},\n",
       " {'model': 'BAAI/bge-small-en-v1.5',\n",
       "  'sources': {'hf': 'qdrant/bge-small-en-v1.5-onnx-q',\n",
       "   'url': None,\n",
       "   '_deprecated_tar_struct': False},\n",
       "  'model_file': 'model_optimized.onnx',\n",
       "  'description': 'Text embeddings, Unimodal (text), English, 512 input tokens truncation, Prefixes for queries/documents: not so necessary, 2023 year.',\n",
       "  'license': 'mit',\n",
       "  'size_in_GB': 0.067,\n",
       "  'additional_files': [],\n",
       "  'dim': 384,\n",
       "  'tasks': {}},\n",
       " {'model': 'BAAI/bge-small-zh-v1.5',\n",
       "  'sources': {'hf': 'Qdrant/bge-small-zh-v1.5',\n",
       "   'url': 'https://storage.googleapis.com/qdrant-fastembed/fast-bge-small-zh-v1.5.tar.gz',\n",
       "   '_deprecated_tar_struct': True},\n",
       "  'model_file': 'model_optimized.onnx',\n",
       "  'description': 'Text embeddings, Unimodal (text), Chinese, 512 input tokens truncation, Prefixes for queries/documents: not so necessary, 2023 year.',\n",
       "  'license': 'mit',\n",
       "  'size_in_GB': 0.09,\n",
       "  'additional_files': [],\n",
       "  'dim': 512,\n",
       "  'tasks': {}},\n",
       " {'model': 'mixedbread-ai/mxbai-embed-large-v1',\n",
       "  'sources': {'hf': 'mixedbread-ai/mxbai-embed-large-v1',\n",
       "   'url': None,\n",
       "   '_deprecated_tar_struct': False},\n",
       "  'model_file': 'onnx/model.onnx',\n",
       "  'description': 'Text embeddings, Unimodal (text), English, 512 input tokens truncation, Prefixes for queries/documents: necessary, 2024 year.',\n",
       "  'license': 'apache-2.0',\n",
       "  'size_in_GB': 0.64,\n",
       "  'additional_files': [],\n",
       "  'dim': 1024,\n",
       "  'tasks': {}},\n",
       " {'model': 'snowflake/snowflake-arctic-embed-xs',\n",
       "  'sources': {'hf': 'snowflake/snowflake-arctic-embed-xs',\n",
       "   'url': None,\n",
       "   '_deprecated_tar_struct': False},\n",
       "  'model_file': 'onnx/model.onnx',\n",
       "  'description': 'Text embeddings, Unimodal (text), English, 512 input tokens truncation, Prefixes for queries/documents: necessary, 2024 year.',\n",
       "  'license': 'apache-2.0',\n",
       "  'size_in_GB': 0.09,\n",
       "  'additional_files': [],\n",
       "  'dim': 384,\n",
       "  'tasks': {}},\n",
       " {'model': 'snowflake/snowflake-arctic-embed-s',\n",
       "  'sources': {'hf': 'snowflake/snowflake-arctic-embed-s',\n",
       "   'url': None,\n",
       "   '_deprecated_tar_struct': False},\n",
       "  'model_file': 'onnx/model.onnx',\n",
       "  'description': 'Text embeddings, Unimodal (text), English, 512 input tokens truncation, Prefixes for queries/documents: necessary, 2024 year.',\n",
       "  'license': 'apache-2.0',\n",
       "  'size_in_GB': 0.13,\n",
       "  'additional_files': [],\n",
       "  'dim': 384,\n",
       "  'tasks': {}},\n",
       " {'model': 'snowflake/snowflake-arctic-embed-m',\n",
       "  'sources': {'hf': 'Snowflake/snowflake-arctic-embed-m',\n",
       "   'url': None,\n",
       "   '_deprecated_tar_struct': False},\n",
       "  'model_file': 'onnx/model.onnx',\n",
       "  'description': 'Text embeddings, Unimodal (text), English, 512 input tokens truncation, Prefixes for queries/documents: necessary, 2024 year.',\n",
       "  'license': 'apache-2.0',\n",
       "  'size_in_GB': 0.43,\n",
       "  'additional_files': [],\n",
       "  'dim': 768,\n",
       "  'tasks': {}},\n",
       " {'model': 'snowflake/snowflake-arctic-embed-m-long',\n",
       "  'sources': {'hf': 'snowflake/snowflake-arctic-embed-m-long',\n",
       "   'url': None,\n",
       "   '_deprecated_tar_struct': False},\n",
       "  'model_file': 'onnx/model.onnx',\n",
       "  'description': 'Text embeddings, Unimodal (text), English, 2048 input tokens truncation, Prefixes for queries/documents: necessary, 2024 year.',\n",
       "  'license': 'apache-2.0',\n",
       "  'size_in_GB': 0.54,\n",
       "  'additional_files': [],\n",
       "  'dim': 768,\n",
       "  'tasks': {}},\n",
       " {'model': 'snowflake/snowflake-arctic-embed-l',\n",
       "  'sources': {'hf': 'snowflake/snowflake-arctic-embed-l',\n",
       "   'url': None,\n",
       "   '_deprecated_tar_struct': False},\n",
       "  'model_file': 'onnx/model.onnx',\n",
       "  'description': 'Text embeddings, Unimodal (text), English, 512 input tokens truncation, Prefixes for queries/documents: necessary, 2024 year.',\n",
       "  'license': 'apache-2.0',\n",
       "  'size_in_GB': 1.02,\n",
       "  'additional_files': [],\n",
       "  'dim': 1024,\n",
       "  'tasks': {}},\n",
       " {'model': 'jinaai/jina-clip-v1',\n",
       "  'sources': {'hf': 'jinaai/jina-clip-v1',\n",
       "   'url': None,\n",
       "   '_deprecated_tar_struct': False},\n",
       "  'model_file': 'onnx/text_model.onnx',\n",
       "  'description': 'Text embeddings, Multimodal (text&image), English, Prefixes for queries/documents: not necessary, 2024 year',\n",
       "  'license': 'apache-2.0',\n",
       "  'size_in_GB': 0.55,\n",
       "  'additional_files': [],\n",
       "  'dim': 768,\n",
       "  'tasks': {}},\n",
       " {'model': 'Qdrant/clip-ViT-B-32-text',\n",
       "  'sources': {'hf': 'Qdrant/clip-ViT-B-32-text',\n",
       "   'url': None,\n",
       "   '_deprecated_tar_struct': False},\n",
       "  'model_file': 'model.onnx',\n",
       "  'description': 'Text embeddings, Multimodal (text&image), English, 77 input tokens truncation, Prefixes for queries/documents: not necessary, 2021 year',\n",
       "  'license': 'mit',\n",
       "  'size_in_GB': 0.25,\n",
       "  'additional_files': [],\n",
       "  'dim': 512,\n",
       "  'tasks': {}},\n",
       " {'model': 'sentence-transformers/all-MiniLM-L6-v2',\n",
       "  'sources': {'hf': 'qdrant/all-MiniLM-L6-v2-onnx',\n",
       "   'url': 'https://storage.googleapis.com/qdrant-fastembed/sentence-transformers-all-MiniLM-L6-v2.tar.gz',\n",
       "   '_deprecated_tar_struct': True},\n",
       "  'model_file': 'model.onnx',\n",
       "  'description': 'Text embeddings, Unimodal (text), English, 256 input tokens truncation, Prefixes for queries/documents: not necessary, 2021 year.',\n",
       "  'license': 'apache-2.0',\n",
       "  'size_in_GB': 0.09,\n",
       "  'additional_files': [],\n",
       "  'dim': 384,\n",
       "  'tasks': {}},\n",
       " {'model': 'jinaai/jina-embeddings-v2-base-en',\n",
       "  'sources': {'hf': 'xenova/jina-embeddings-v2-base-en',\n",
       "   'url': None,\n",
       "   '_deprecated_tar_struct': False},\n",
       "  'model_file': 'onnx/model.onnx',\n",
       "  'description': 'Text embeddings, Unimodal (text), English, 8192 input tokens truncation, Prefixes for queries/documents: not necessary, 2023 year.',\n",
       "  'license': 'apache-2.0',\n",
       "  'size_in_GB': 0.52,\n",
       "  'additional_files': [],\n",
       "  'dim': 768,\n",
       "  'tasks': {}},\n",
       " {'model': 'jinaai/jina-embeddings-v2-small-en',\n",
       "  'sources': {'hf': 'xenova/jina-embeddings-v2-small-en',\n",
       "   'url': None,\n",
       "   '_deprecated_tar_struct': False},\n",
       "  'model_file': 'onnx/model.onnx',\n",
       "  'description': 'Text embeddings, Unimodal (text), English, 8192 input tokens truncation, Prefixes for queries/documents: not necessary, 2023 year.',\n",
       "  'license': 'apache-2.0',\n",
       "  'size_in_GB': 0.12,\n",
       "  'additional_files': [],\n",
       "  'dim': 512,\n",
       "  'tasks': {}},\n",
       " {'model': 'jinaai/jina-embeddings-v2-base-de',\n",
       "  'sources': {'hf': 'jinaai/jina-embeddings-v2-base-de',\n",
       "   'url': None,\n",
       "   '_deprecated_tar_struct': False},\n",
       "  'model_file': 'onnx/model_fp16.onnx',\n",
       "  'description': 'Text embeddings, Unimodal (text), Multilingual (German, English), 8192 input tokens truncation, Prefixes for queries/documents: not necessary, 2024 year.',\n",
       "  'license': 'apache-2.0',\n",
       "  'size_in_GB': 0.32,\n",
       "  'additional_files': [],\n",
       "  'dim': 768,\n",
       "  'tasks': {}},\n",
       " {'model': 'jinaai/jina-embeddings-v2-base-code',\n",
       "  'sources': {'hf': 'jinaai/jina-embeddings-v2-base-code',\n",
       "   'url': None,\n",
       "   '_deprecated_tar_struct': False},\n",
       "  'model_file': 'onnx/model.onnx',\n",
       "  'description': 'Text embeddings, Unimodal (text), Multilingual (English, 30 programming languages), 8192 input tokens truncation, Prefixes for queries/documents: not necessary, 2024 year.',\n",
       "  'license': 'apache-2.0',\n",
       "  'size_in_GB': 0.64,\n",
       "  'additional_files': [],\n",
       "  'dim': 768,\n",
       "  'tasks': {}},\n",
       " {'model': 'jinaai/jina-embeddings-v2-base-zh',\n",
       "  'sources': {'hf': 'jinaai/jina-embeddings-v2-base-zh',\n",
       "   'url': None,\n",
       "   '_deprecated_tar_struct': False},\n",
       "  'model_file': 'onnx/model.onnx',\n",
       "  'description': 'Text embeddings, Unimodal (text), supports mixed Chinese-English input text, 8192 input tokens truncation, Prefixes for queries/documents: not necessary, 2024 year.',\n",
       "  'license': 'apache-2.0',\n",
       "  'size_in_GB': 0.64,\n",
       "  'additional_files': [],\n",
       "  'dim': 768,\n",
       "  'tasks': {}},\n",
       " {'model': 'jinaai/jina-embeddings-v2-base-es',\n",
       "  'sources': {'hf': 'jinaai/jina-embeddings-v2-base-es',\n",
       "   'url': None,\n",
       "   '_deprecated_tar_struct': False},\n",
       "  'model_file': 'onnx/model.onnx',\n",
       "  'description': 'Text embeddings, Unimodal (text), supports mixed Spanish-English input text, 8192 input tokens truncation, Prefixes for queries/documents: not necessary, 2024 year.',\n",
       "  'license': 'apache-2.0',\n",
       "  'size_in_GB': 0.64,\n",
       "  'additional_files': [],\n",
       "  'dim': 768,\n",
       "  'tasks': {}},\n",
       " {'model': 'thenlper/gte-base',\n",
       "  'sources': {'hf': 'thenlper/gte-base',\n",
       "   'url': None,\n",
       "   '_deprecated_tar_struct': False},\n",
       "  'model_file': 'onnx/model.onnx',\n",
       "  'description': 'General text embeddings, Unimodal (text), supports English only input text, 512 input tokens truncation, Prefixes for queries/documents: not necessary, 2024 year.',\n",
       "  'license': 'mit',\n",
       "  'size_in_GB': 0.44,\n",
       "  'additional_files': [],\n",
       "  'dim': 768,\n",
       "  'tasks': {}},\n",
       " {'model': 'thenlper/gte-large',\n",
       "  'sources': {'hf': 'qdrant/gte-large-onnx',\n",
       "   'url': None,\n",
       "   '_deprecated_tar_struct': False},\n",
       "  'model_file': 'model.onnx',\n",
       "  'description': 'Text embeddings, Unimodal (text), English, 512 input tokens truncation, Prefixes for queries/documents: not necessary, 2023 year.',\n",
       "  'license': 'mit',\n",
       "  'size_in_GB': 1.2,\n",
       "  'additional_files': [],\n",
       "  'dim': 1024,\n",
       "  'tasks': {}},\n",
       " {'model': 'nomic-ai/nomic-embed-text-v1.5',\n",
       "  'sources': {'hf': 'nomic-ai/nomic-embed-text-v1.5',\n",
       "   'url': None,\n",
       "   '_deprecated_tar_struct': False},\n",
       "  'model_file': 'onnx/model.onnx',\n",
       "  'description': 'Text embeddings, Multimodal (text, image), English, 8192 input tokens truncation, Prefixes for queries/documents: necessary, 2024 year.',\n",
       "  'license': 'apache-2.0',\n",
       "  'size_in_GB': 0.52,\n",
       "  'additional_files': [],\n",
       "  'dim': 768,\n",
       "  'tasks': {}},\n",
       " {'model': 'nomic-ai/nomic-embed-text-v1.5-Q',\n",
       "  'sources': {'hf': 'nomic-ai/nomic-embed-text-v1.5',\n",
       "   'url': None,\n",
       "   '_deprecated_tar_struct': False},\n",
       "  'model_file': 'onnx/model_quantized.onnx',\n",
       "  'description': 'Text embeddings, Multimodal (text, image), English, 8192 input tokens truncation, Prefixes for queries/documents: necessary, 2024 year.',\n",
       "  'license': 'apache-2.0',\n",
       "  'size_in_GB': 0.13,\n",
       "  'additional_files': [],\n",
       "  'dim': 768,\n",
       "  'tasks': {}},\n",
       " {'model': 'nomic-ai/nomic-embed-text-v1',\n",
       "  'sources': {'hf': 'nomic-ai/nomic-embed-text-v1',\n",
       "   'url': None,\n",
       "   '_deprecated_tar_struct': False},\n",
       "  'model_file': 'onnx/model.onnx',\n",
       "  'description': 'Text embeddings, Multimodal (text, image), English, 8192 input tokens truncation, Prefixes for queries/documents: necessary, 2024 year.',\n",
       "  'license': 'apache-2.0',\n",
       "  'size_in_GB': 0.52,\n",
       "  'additional_files': [],\n",
       "  'dim': 768,\n",
       "  'tasks': {}},\n",
       " {'model': 'sentence-transformers/paraphrase-multilingual-MiniLM-L12-v2',\n",
       "  'sources': {'hf': 'qdrant/paraphrase-multilingual-MiniLM-L12-v2-onnx-Q',\n",
       "   'url': None,\n",
       "   '_deprecated_tar_struct': False},\n",
       "  'model_file': 'model_optimized.onnx',\n",
       "  'description': 'Text embeddings, Unimodal (text), Multilingual (~50 languages), 512 input tokens truncation, Prefixes for queries/documents: not necessary, 2019 year.',\n",
       "  'license': 'apache-2.0',\n",
       "  'size_in_GB': 0.22,\n",
       "  'additional_files': [],\n",
       "  'dim': 384,\n",
       "  'tasks': {}},\n",
       " {'model': 'sentence-transformers/paraphrase-multilingual-mpnet-base-v2',\n",
       "  'sources': {'hf': 'xenova/paraphrase-multilingual-mpnet-base-v2',\n",
       "   'url': None,\n",
       "   '_deprecated_tar_struct': False},\n",
       "  'model_file': 'onnx/model.onnx',\n",
       "  'description': 'Text embeddings, Unimodal (text), Multilingual (~50 languages), 384 input tokens truncation, Prefixes for queries/documents: not necessary, 2021 year.',\n",
       "  'license': 'apache-2.0',\n",
       "  'size_in_GB': 1.0,\n",
       "  'additional_files': [],\n",
       "  'dim': 768,\n",
       "  'tasks': {}},\n",
       " {'model': 'intfloat/multilingual-e5-large',\n",
       "  'sources': {'hf': 'qdrant/multilingual-e5-large-onnx',\n",
       "   'url': 'https://storage.googleapis.com/qdrant-fastembed/fast-multilingual-e5-large.tar.gz',\n",
       "   '_deprecated_tar_struct': True},\n",
       "  'model_file': 'model.onnx',\n",
       "  'description': 'Text embeddings, Unimodal (text), Multilingual (~100 languages), 512 input tokens truncation, Prefixes for queries/documents: necessary, 2024 year.',\n",
       "  'license': 'mit',\n",
       "  'size_in_GB': 2.24,\n",
       "  'additional_files': ['model.onnx_data'],\n",
       "  'dim': 1024,\n",
       "  'tasks': {}},\n",
       " {'model': 'jinaai/jina-embeddings-v3',\n",
       "  'sources': {'hf': 'jinaai/jina-embeddings-v3',\n",
       "   'url': None,\n",
       "   '_deprecated_tar_struct': False},\n",
       "  'model_file': 'onnx/model.onnx',\n",
       "  'description': 'Multi-task unimodal (text) embedding model, multi-lingual (~100), 1024 tokens truncation, and 8192 sequence length. Prefixes for queries/documents: not necessary, 2024 year.',\n",
       "  'license': 'cc-by-nc-4.0',\n",
       "  'size_in_GB': 2.29,\n",
       "  'additional_files': ['onnx/model.onnx_data'],\n",
       "  'dim': 1024,\n",
       "  'tasks': {'retrieval.query': 0,\n",
       "   'retrieval.passage': 1,\n",
       "   'separation': 2,\n",
       "   'classification': 3,\n",
       "   'text-matching': 4}}]"
      ]
     },
     "execution_count": 14,
     "metadata": {},
     "output_type": "execute_result"
    }
   ],
   "source": [
    "from fastembed import TextEmbedding\n",
    "TextEmbedding.list_supported_models()\n"
   ]
  },
  {
   "cell_type": "code",
   "execution_count": 15,
   "id": "2b78c14d",
   "metadata": {},
   "outputs": [
    {
     "name": "stdout",
     "output_type": "stream",
     "text": [
      "{\n",
      "  \"model\": \"BAAI/bge-small-zh-v1.5\",\n",
      "  \"sources\": {\n",
      "    \"hf\": \"Qdrant/bge-small-zh-v1.5\",\n",
      "    \"url\": \"https://storage.googleapis.com/qdrant-fastembed/fast-bge-small-zh-v1.5.tar.gz\",\n",
      "    \"_deprecated_tar_struct\": true\n",
      "  },\n",
      "  \"model_file\": \"model_optimized.onnx\",\n",
      "  \"description\": \"Text embeddings, Unimodal (text), Chinese, 512 input tokens truncation, Prefixes for queries/documents: not so necessary, 2023 year.\",\n",
      "  \"license\": \"mit\",\n",
      "  \"size_in_GB\": 0.09,\n",
      "  \"additional_files\": [],\n",
      "  \"dim\": 512,\n",
      "  \"tasks\": {}\n",
      "}\n",
      "{\n",
      "  \"model\": \"Qdrant/clip-ViT-B-32-text\",\n",
      "  \"sources\": {\n",
      "    \"hf\": \"Qdrant/clip-ViT-B-32-text\",\n",
      "    \"url\": null,\n",
      "    \"_deprecated_tar_struct\": false\n",
      "  },\n",
      "  \"model_file\": \"model.onnx\",\n",
      "  \"description\": \"Text embeddings, Multimodal (text&image), English, 77 input tokens truncation, Prefixes for queries/documents: not necessary, 2021 year\",\n",
      "  \"license\": \"mit\",\n",
      "  \"size_in_GB\": 0.25,\n",
      "  \"additional_files\": [],\n",
      "  \"dim\": 512,\n",
      "  \"tasks\": {}\n",
      "}\n",
      "{\n",
      "  \"model\": \"jinaai/jina-embeddings-v2-small-en\",\n",
      "  \"sources\": {\n",
      "    \"hf\": \"xenova/jina-embeddings-v2-small-en\",\n",
      "    \"url\": null,\n",
      "    \"_deprecated_tar_struct\": false\n",
      "  },\n",
      "  \"model_file\": \"onnx/model.onnx\",\n",
      "  \"description\": \"Text embeddings, Unimodal (text), English, 8192 input tokens truncation, Prefixes for queries/documents: not necessary, 2023 year.\",\n",
      "  \"license\": \"apache-2.0\",\n",
      "  \"size_in_GB\": 0.12,\n",
      "  \"additional_files\": [],\n",
      "  \"dim\": 512,\n",
      "  \"tasks\": {}\n",
      "}\n"
     ]
    }
   ],
   "source": [
    "## set dim to 512\n",
    "import json\n",
    "\n",
    "EMBEDDING_DIMENSIONALITY = 512\n",
    "\n",
    "for model in TextEmbedding.list_supported_models():\n",
    "    if model[\"dim\"] == EMBEDDING_DIMENSIONALITY:\n",
    "        print(json.dumps(model, indent=2))"
   ]
  },
  {
   "cell_type": "code",
   "execution_count": 16,
   "id": "a9236f6d",
   "metadata": {},
   "outputs": [],
   "source": [
    "model_handle = \"jinaai/jina-embeddings-v2-small-en\""
   ]
  },
  {
   "cell_type": "markdown",
   "id": "d4070c96",
   "metadata": {},
   "source": [
    "## Step 4: Create a Collection\n",
    "\n",
    "When creating a [collection](https://qdrant.tech/documentation/concepts/collections/), we need to specify:\n",
    "\n",
    "*   Name: A unique identifier for the collection.\n",
    "*   Vector Configuration:\n",
    "    *   Size: The dimensionality of the vectors.\n",
    "    *   Distance Metric: The method used to measure similarity between vectors.\n",
    "\n",
    "\n",
    "There are additional parameters you can explore in our [documentation](https://qdrant.tech/documentation/concepts/collections/#create-a-collection). Moreover, you can configure other vector types in Qdrant beyond typical dense embeddings (f.e., for hybrid search). However, for this example, the simplest default configuration is sufficient.\n",
    "    "
   ]
  },
  {
   "cell_type": "code",
   "execution_count": 17,
   "id": "9dc593e6",
   "metadata": {},
   "outputs": [
    {
     "ename": "UnexpectedResponse",
     "evalue": "Unexpected Response: 409 (Conflict)\nRaw response content:\nb'{\"status\":{\"error\":\"Wrong input: Collection `jobs-collection` already exists!\"},\"time\":0.003335211}'",
     "output_type": "error",
     "traceback": [
      "\u001b[31m---------------------------------------------------------------------------\u001b[39m",
      "\u001b[31mUnexpectedResponse\u001b[39m                        Traceback (most recent call last)",
      "\u001b[36mCell\u001b[39m\u001b[36m \u001b[39m\u001b[32mIn[17]\u001b[39m\u001b[32m, line 4\u001b[39m\n\u001b[32m      1\u001b[39m collection_name = \u001b[33m'\u001b[39m\u001b[33mjobs-collection\u001b[39m\u001b[33m'\u001b[39m\n\u001b[32m      3\u001b[39m \u001b[38;5;66;03m# Create the collection with specified vector parameters\u001b[39;00m\n\u001b[32m----> \u001b[39m\u001b[32m4\u001b[39m \u001b[43mclient\u001b[49m\u001b[43m.\u001b[49m\u001b[43mcreate_collection\u001b[49m\u001b[43m(\u001b[49m\n\u001b[32m      5\u001b[39m \u001b[43m    \u001b[49m\u001b[43mcollection_name\u001b[49m\u001b[43m=\u001b[49m\u001b[43mcollection_name\u001b[49m\u001b[43m,\u001b[49m\n\u001b[32m      6\u001b[39m \u001b[43m    \u001b[49m\u001b[43mvectors_config\u001b[49m\u001b[43m=\u001b[49m\u001b[43mmodels\u001b[49m\u001b[43m.\u001b[49m\u001b[43mVectorParams\u001b[49m\u001b[43m(\u001b[49m\n\u001b[32m      7\u001b[39m \u001b[43m        \u001b[49m\u001b[43msize\u001b[49m\u001b[43m=\u001b[49m\u001b[43mEMBEDDING_DIMENSIONALITY\u001b[49m\u001b[43m,\u001b[49m\u001b[43m  \u001b[49m\u001b[38;5;66;43;03m# Dimensionality of the vectors\u001b[39;49;00m\n\u001b[32m      8\u001b[39m \u001b[43m        \u001b[49m\u001b[43mdistance\u001b[49m\u001b[43m=\u001b[49m\u001b[43mmodels\u001b[49m\u001b[43m.\u001b[49m\u001b[43mDistance\u001b[49m\u001b[43m.\u001b[49m\u001b[43mCOSINE\u001b[49m\u001b[43m  \u001b[49m\u001b[38;5;66;43;03m# Distance metric for similarity search\u001b[39;49;00m\n\u001b[32m      9\u001b[39m \u001b[43m    \u001b[49m\u001b[43m)\u001b[49m\n\u001b[32m     10\u001b[39m \u001b[43m)\u001b[49m\n",
      "\u001b[36mFile \u001b[39m\u001b[32mc:\\Users\\User\\.virtualenvs\\career_recommendation_system-rbNTdb32\\Lib\\site-packages\\qdrant_client\\qdrant_client.py:2382\u001b[39m, in \u001b[36mQdrantClient.create_collection\u001b[39m\u001b[34m(self, collection_name, vectors_config, sparse_vectors_config, shard_number, sharding_method, replication_factor, write_consistency_factor, on_disk_payload, hnsw_config, optimizers_config, wal_config, quantization_config, init_from, timeout, strict_mode_config, **kwargs)\u001b[39m\n\u001b[32m   2332\u001b[39m \u001b[38;5;250m\u001b[39m\u001b[33;03m\"\"\"Create empty collection with given parameters\u001b[39;00m\n\u001b[32m   2333\u001b[39m \n\u001b[32m   2334\u001b[39m \u001b[33;03mArgs:\u001b[39;00m\n\u001b[32m   (...)\u001b[39m\u001b[32m   2378\u001b[39m \u001b[33;03m    Operation result\u001b[39;00m\n\u001b[32m   2379\u001b[39m \u001b[33;03m\"\"\"\u001b[39;00m\n\u001b[32m   2380\u001b[39m \u001b[38;5;28;01massert\u001b[39;00m \u001b[38;5;28mlen\u001b[39m(kwargs) == \u001b[32m0\u001b[39m, \u001b[33mf\u001b[39m\u001b[33m\"\u001b[39m\u001b[33mUnknown arguments: \u001b[39m\u001b[38;5;132;01m{\u001b[39;00m\u001b[38;5;28mlist\u001b[39m(kwargs.keys())\u001b[38;5;132;01m}\u001b[39;00m\u001b[33m\"\u001b[39m\n\u001b[32m-> \u001b[39m\u001b[32m2382\u001b[39m \u001b[38;5;28;01mreturn\u001b[39;00m \u001b[38;5;28;43mself\u001b[39;49m\u001b[43m.\u001b[49m\u001b[43m_client\u001b[49m\u001b[43m.\u001b[49m\u001b[43mcreate_collection\u001b[49m\u001b[43m(\u001b[49m\n\u001b[32m   2383\u001b[39m \u001b[43m    \u001b[49m\u001b[43mcollection_name\u001b[49m\u001b[43m=\u001b[49m\u001b[43mcollection_name\u001b[49m\u001b[43m,\u001b[49m\n\u001b[32m   2384\u001b[39m \u001b[43m    \u001b[49m\u001b[43mvectors_config\u001b[49m\u001b[43m=\u001b[49m\u001b[43mvectors_config\u001b[49m\u001b[43m,\u001b[49m\n\u001b[32m   2385\u001b[39m \u001b[43m    \u001b[49m\u001b[43mshard_number\u001b[49m\u001b[43m=\u001b[49m\u001b[43mshard_number\u001b[49m\u001b[43m,\u001b[49m\n\u001b[32m   2386\u001b[39m \u001b[43m    \u001b[49m\u001b[43msharding_method\u001b[49m\u001b[43m=\u001b[49m\u001b[43msharding_method\u001b[49m\u001b[43m,\u001b[49m\n\u001b[32m   2387\u001b[39m \u001b[43m    \u001b[49m\u001b[43mreplication_factor\u001b[49m\u001b[43m=\u001b[49m\u001b[43mreplication_factor\u001b[49m\u001b[43m,\u001b[49m\n\u001b[32m   2388\u001b[39m \u001b[43m    \u001b[49m\u001b[43mwrite_consistency_factor\u001b[49m\u001b[43m=\u001b[49m\u001b[43mwrite_consistency_factor\u001b[49m\u001b[43m,\u001b[49m\n\u001b[32m   2389\u001b[39m \u001b[43m    \u001b[49m\u001b[43mon_disk_payload\u001b[49m\u001b[43m=\u001b[49m\u001b[43mon_disk_payload\u001b[49m\u001b[43m,\u001b[49m\n\u001b[32m   2390\u001b[39m \u001b[43m    \u001b[49m\u001b[43mhnsw_config\u001b[49m\u001b[43m=\u001b[49m\u001b[43mhnsw_config\u001b[49m\u001b[43m,\u001b[49m\n\u001b[32m   2391\u001b[39m \u001b[43m    \u001b[49m\u001b[43moptimizers_config\u001b[49m\u001b[43m=\u001b[49m\u001b[43moptimizers_config\u001b[49m\u001b[43m,\u001b[49m\n\u001b[32m   2392\u001b[39m \u001b[43m    \u001b[49m\u001b[43mwal_config\u001b[49m\u001b[43m=\u001b[49m\u001b[43mwal_config\u001b[49m\u001b[43m,\u001b[49m\n\u001b[32m   2393\u001b[39m \u001b[43m    \u001b[49m\u001b[43mquantization_config\u001b[49m\u001b[43m=\u001b[49m\u001b[43mquantization_config\u001b[49m\u001b[43m,\u001b[49m\n\u001b[32m   2394\u001b[39m \u001b[43m    \u001b[49m\u001b[43minit_from\u001b[49m\u001b[43m=\u001b[49m\u001b[43minit_from\u001b[49m\u001b[43m,\u001b[49m\n\u001b[32m   2395\u001b[39m \u001b[43m    \u001b[49m\u001b[43mtimeout\u001b[49m\u001b[43m=\u001b[49m\u001b[43mtimeout\u001b[49m\u001b[43m,\u001b[49m\n\u001b[32m   2396\u001b[39m \u001b[43m    \u001b[49m\u001b[43msparse_vectors_config\u001b[49m\u001b[43m=\u001b[49m\u001b[43msparse_vectors_config\u001b[49m\u001b[43m,\u001b[49m\n\u001b[32m   2397\u001b[39m \u001b[43m    \u001b[49m\u001b[43mstrict_mode_config\u001b[49m\u001b[43m=\u001b[49m\u001b[43mstrict_mode_config\u001b[49m\u001b[43m,\u001b[49m\n\u001b[32m   2398\u001b[39m \u001b[43m    \u001b[49m\u001b[43m*\u001b[49m\u001b[43m*\u001b[49m\u001b[43mkwargs\u001b[49m\u001b[43m,\u001b[49m\n\u001b[32m   2399\u001b[39m \u001b[43m\u001b[49m\u001b[43m)\u001b[49m\n",
      "\u001b[36mFile \u001b[39m\u001b[32mc:\\Users\\User\\.virtualenvs\\career_recommendation_system-rbNTdb32\\Lib\\site-packages\\qdrant_client\\qdrant_remote.py:2815\u001b[39m, in \u001b[36mQdrantRemote.create_collection\u001b[39m\u001b[34m(self, collection_name, vectors_config, shard_number, replication_factor, write_consistency_factor, on_disk_payload, hnsw_config, optimizers_config, wal_config, quantization_config, init_from, timeout, sparse_vectors_config, sharding_method, strict_mode_config, **kwargs)\u001b[39m\n\u001b[32m   2797\u001b[39m     init_from = GrpcToRest.convert_init_from(init_from)\n\u001b[32m   2799\u001b[39m create_collection_request = models.CreateCollection(\n\u001b[32m   2800\u001b[39m     vectors=vectors_config,\n\u001b[32m   2801\u001b[39m     shard_number=shard_number,\n\u001b[32m   (...)\u001b[39m\u001b[32m   2812\u001b[39m     strict_mode_config=strict_mode_config,\n\u001b[32m   2813\u001b[39m )\n\u001b[32m-> \u001b[39m\u001b[32m2815\u001b[39m result: Optional[\u001b[38;5;28mbool\u001b[39m] = \u001b[38;5;28;43mself\u001b[39;49m\u001b[43m.\u001b[49m\u001b[43mhttp\u001b[49m\u001b[43m.\u001b[49m\u001b[43mcollections_api\u001b[49m\u001b[43m.\u001b[49m\u001b[43mcreate_collection\u001b[49m\u001b[43m(\u001b[49m\n\u001b[32m   2816\u001b[39m \u001b[43m    \u001b[49m\u001b[43mcollection_name\u001b[49m\u001b[43m=\u001b[49m\u001b[43mcollection_name\u001b[49m\u001b[43m,\u001b[49m\n\u001b[32m   2817\u001b[39m \u001b[43m    \u001b[49m\u001b[43mcreate_collection\u001b[49m\u001b[43m=\u001b[49m\u001b[43mcreate_collection_request\u001b[49m\u001b[43m,\u001b[49m\n\u001b[32m   2818\u001b[39m \u001b[43m    \u001b[49m\u001b[43mtimeout\u001b[49m\u001b[43m=\u001b[49m\u001b[43mtimeout\u001b[49m\u001b[43m,\u001b[49m\n\u001b[32m   2819\u001b[39m \u001b[43m\u001b[49m\u001b[43m)\u001b[49m.result\n\u001b[32m   2821\u001b[39m \u001b[38;5;28;01massert\u001b[39;00m result \u001b[38;5;129;01mis\u001b[39;00m \u001b[38;5;129;01mnot\u001b[39;00m \u001b[38;5;28;01mNone\u001b[39;00m, \u001b[33m\"\u001b[39m\u001b[33mCreate collection returned None\u001b[39m\u001b[33m\"\u001b[39m\n\u001b[32m   2822\u001b[39m \u001b[38;5;28;01mreturn\u001b[39;00m result\n",
      "\u001b[36mFile \u001b[39m\u001b[32mc:\\Users\\User\\.virtualenvs\\career_recommendation_system-rbNTdb32\\Lib\\site-packages\\qdrant_client\\http\\api\\collections_api.py:294\u001b[39m, in \u001b[36mSyncCollectionsApi.create_collection\u001b[39m\u001b[34m(self, collection_name, timeout, create_collection)\u001b[39m\n\u001b[32m    285\u001b[39m \u001b[38;5;28;01mdef\u001b[39;00m\u001b[38;5;250m \u001b[39m\u001b[34mcreate_collection\u001b[39m(\n\u001b[32m    286\u001b[39m     \u001b[38;5;28mself\u001b[39m,\n\u001b[32m    287\u001b[39m     collection_name: \u001b[38;5;28mstr\u001b[39m,\n\u001b[32m    288\u001b[39m     timeout: \u001b[38;5;28mint\u001b[39m = \u001b[38;5;28;01mNone\u001b[39;00m,\n\u001b[32m    289\u001b[39m     create_collection: m.CreateCollection = \u001b[38;5;28;01mNone\u001b[39;00m,\n\u001b[32m    290\u001b[39m ) -> m.InlineResponse200:\n\u001b[32m    291\u001b[39m \u001b[38;5;250m    \u001b[39m\u001b[33;03m\"\"\"\u001b[39;00m\n\u001b[32m    292\u001b[39m \u001b[33;03m    Create new collection with given parameters\u001b[39;00m\n\u001b[32m    293\u001b[39m \u001b[33;03m    \"\"\"\u001b[39;00m\n\u001b[32m--> \u001b[39m\u001b[32m294\u001b[39m     \u001b[38;5;28;01mreturn\u001b[39;00m \u001b[38;5;28;43mself\u001b[39;49m\u001b[43m.\u001b[49m\u001b[43m_build_for_create_collection\u001b[49m\u001b[43m(\u001b[49m\n\u001b[32m    295\u001b[39m \u001b[43m        \u001b[49m\u001b[43mcollection_name\u001b[49m\u001b[43m=\u001b[49m\u001b[43mcollection_name\u001b[49m\u001b[43m,\u001b[49m\n\u001b[32m    296\u001b[39m \u001b[43m        \u001b[49m\u001b[43mtimeout\u001b[49m\u001b[43m=\u001b[49m\u001b[43mtimeout\u001b[49m\u001b[43m,\u001b[49m\n\u001b[32m    297\u001b[39m \u001b[43m        \u001b[49m\u001b[43mcreate_collection\u001b[49m\u001b[43m=\u001b[49m\u001b[43mcreate_collection\u001b[49m\u001b[43m,\u001b[49m\n\u001b[32m    298\u001b[39m \u001b[43m    \u001b[49m\u001b[43m)\u001b[49m\n",
      "\u001b[36mFile \u001b[39m\u001b[32mc:\\Users\\User\\.virtualenvs\\career_recommendation_system-rbNTdb32\\Lib\\site-packages\\qdrant_client\\http\\api\\collections_api.py:96\u001b[39m, in \u001b[36m_CollectionsApi._build_for_create_collection\u001b[39m\u001b[34m(self, collection_name, timeout, create_collection)\u001b[39m\n\u001b[32m     94\u001b[39m \u001b[38;5;28;01mif\u001b[39;00m \u001b[33m\"\u001b[39m\u001b[33mContent-Type\u001b[39m\u001b[33m\"\u001b[39m \u001b[38;5;129;01mnot\u001b[39;00m \u001b[38;5;129;01min\u001b[39;00m headers:\n\u001b[32m     95\u001b[39m     headers[\u001b[33m\"\u001b[39m\u001b[33mContent-Type\u001b[39m\u001b[33m\"\u001b[39m] = \u001b[33m\"\u001b[39m\u001b[33mapplication/json\u001b[39m\u001b[33m\"\u001b[39m\n\u001b[32m---> \u001b[39m\u001b[32m96\u001b[39m \u001b[38;5;28;01mreturn\u001b[39;00m \u001b[38;5;28;43mself\u001b[39;49m\u001b[43m.\u001b[49m\u001b[43mapi_client\u001b[49m\u001b[43m.\u001b[49m\u001b[43mrequest\u001b[49m\u001b[43m(\u001b[49m\n\u001b[32m     97\u001b[39m \u001b[43m    \u001b[49m\u001b[43mtype_\u001b[49m\u001b[43m=\u001b[49m\u001b[43mm\u001b[49m\u001b[43m.\u001b[49m\u001b[43mInlineResponse200\u001b[49m\u001b[43m,\u001b[49m\n\u001b[32m     98\u001b[39m \u001b[43m    \u001b[49m\u001b[43mmethod\u001b[49m\u001b[43m=\u001b[49m\u001b[33;43m\"\u001b[39;49m\u001b[33;43mPUT\u001b[39;49m\u001b[33;43m\"\u001b[39;49m\u001b[43m,\u001b[49m\n\u001b[32m     99\u001b[39m \u001b[43m    \u001b[49m\u001b[43murl\u001b[49m\u001b[43m=\u001b[49m\u001b[33;43m\"\u001b[39;49m\u001b[33;43m/collections/\u001b[39;49m\u001b[38;5;132;43;01m{collection_name}\u001b[39;49;00m\u001b[33;43m\"\u001b[39;49m\u001b[43m,\u001b[49m\n\u001b[32m    100\u001b[39m \u001b[43m    \u001b[49m\u001b[43mheaders\u001b[49m\u001b[43m=\u001b[49m\u001b[43mheaders\u001b[49m\u001b[43m \u001b[49m\u001b[38;5;28;43;01mif\u001b[39;49;00m\u001b[43m \u001b[49m\u001b[43mheaders\u001b[49m\u001b[43m \u001b[49m\u001b[38;5;28;43;01melse\u001b[39;49;00m\u001b[43m \u001b[49m\u001b[38;5;28;43;01mNone\u001b[39;49;00m\u001b[43m,\u001b[49m\n\u001b[32m    101\u001b[39m \u001b[43m    \u001b[49m\u001b[43mpath_params\u001b[49m\u001b[43m=\u001b[49m\u001b[43mpath_params\u001b[49m\u001b[43m,\u001b[49m\n\u001b[32m    102\u001b[39m \u001b[43m    \u001b[49m\u001b[43mparams\u001b[49m\u001b[43m=\u001b[49m\u001b[43mquery_params\u001b[49m\u001b[43m,\u001b[49m\n\u001b[32m    103\u001b[39m \u001b[43m    \u001b[49m\u001b[43mcontent\u001b[49m\u001b[43m=\u001b[49m\u001b[43mbody\u001b[49m\u001b[43m,\u001b[49m\n\u001b[32m    104\u001b[39m \u001b[43m\u001b[49m\u001b[43m)\u001b[49m\n",
      "\u001b[36mFile \u001b[39m\u001b[32mc:\\Users\\User\\.virtualenvs\\career_recommendation_system-rbNTdb32\\Lib\\site-packages\\qdrant_client\\http\\api_client.py:95\u001b[39m, in \u001b[36mApiClient.request\u001b[39m\u001b[34m(self, type_, method, url, path_params, **kwargs)\u001b[39m\n\u001b[32m     93\u001b[39m     kwargs[\u001b[33m\"\u001b[39m\u001b[33mtimeout\u001b[39m\u001b[33m\"\u001b[39m] = \u001b[38;5;28mint\u001b[39m(kwargs[\u001b[33m\"\u001b[39m\u001b[33mparams\u001b[39m\u001b[33m\"\u001b[39m][\u001b[33m\"\u001b[39m\u001b[33mtimeout\u001b[39m\u001b[33m\"\u001b[39m])\n\u001b[32m     94\u001b[39m request = \u001b[38;5;28mself\u001b[39m._client.build_request(method, url, **kwargs)\n\u001b[32m---> \u001b[39m\u001b[32m95\u001b[39m \u001b[38;5;28;01mreturn\u001b[39;00m \u001b[38;5;28;43mself\u001b[39;49m\u001b[43m.\u001b[49m\u001b[43msend\u001b[49m\u001b[43m(\u001b[49m\u001b[43mrequest\u001b[49m\u001b[43m,\u001b[49m\u001b[43m \u001b[49m\u001b[43mtype_\u001b[49m\u001b[43m)\u001b[49m\n",
      "\u001b[36mFile \u001b[39m\u001b[32mc:\\Users\\User\\.virtualenvs\\career_recommendation_system-rbNTdb32\\Lib\\site-packages\\qdrant_client\\http\\api_client.py:130\u001b[39m, in \u001b[36mApiClient.send\u001b[39m\u001b[34m(self, request, type_)\u001b[39m\n\u001b[32m    128\u001b[39m     \u001b[38;5;28;01mexcept\u001b[39;00m ValidationError \u001b[38;5;28;01mas\u001b[39;00m e:\n\u001b[32m    129\u001b[39m         \u001b[38;5;28;01mraise\u001b[39;00m ResponseHandlingException(e)\n\u001b[32m--> \u001b[39m\u001b[32m130\u001b[39m \u001b[38;5;28;01mraise\u001b[39;00m UnexpectedResponse.for_response(response)\n",
      "\u001b[31mUnexpectedResponse\u001b[39m: Unexpected Response: 409 (Conflict)\nRaw response content:\nb'{\"status\":{\"error\":\"Wrong input: Collection `jobs-collection` already exists!\"},\"time\":0.003335211}'"
     ]
    }
   ],
   "source": [
    "collection_name = 'jobs-collection'\n",
    "\n",
    "# Create the collection with specified vector parameters\n",
    "client.create_collection(\n",
    "    collection_name=collection_name,\n",
    "    vectors_config=models.VectorParams(\n",
    "        size=EMBEDDING_DIMENSIONALITY,  # Dimensionality of the vectors\n",
    "        distance=models.Distance.COSINE  # Distance metric for similarity search\n",
    "    )\n",
    ")\n"
   ]
  },
  {
   "cell_type": "markdown",
   "id": "6ba90b38",
   "metadata": {},
   "source": [
    "![qdrant screenshot](imgs/screenshot-qdrant.png)\n"
   ]
  },
  {
   "cell_type": "markdown",
   "id": "d01542f2",
   "metadata": {},
   "source": [
    "## Step 5: Create, Embed & Insert Points into the Collection\n",
    "\n",
    "[Points](https://qdrant.tech/documentation/concepts/points/#points) are the core data entities in Qdrant. Each point consists of:\n",
    "\n",
    "1. **ID**. A unique identifier. Qdrant supports both 64-bit unsigned integers and UUIDs.  \n",
    "2. **Vector**. The embedding that represents the data point in vector space.  \n",
    "3. **Payload** *(optional)*. Additional metadata as key-value pairs.\n"
   ]
  },
  {
   "cell_type": "markdown",
   "id": "a8af5907",
   "metadata": {},
   "source": [
    "upsert :  embed and upload points to our collection.\n",
    "\n",
    "First, FastEmbed will fetch&download the selected model (path defaults to `os.path.join(tempfile.gettempdir(), \"fastembed_cache\")`), and perform inference directly on your machine.  \n",
    "Then, the generated points will be upserted into the collection, and the vector index will be built.\n"
   ]
  },
  {
   "cell_type": "code",
   "execution_count": 18,
   "id": "528b1b29",
   "metadata": {},
   "outputs": [],
   "source": [
    "from fastembed import TextEmbedding\n",
    "\n",
    "model = TextEmbedding(model_name=model_handle)\n"
   ]
  },
  {
   "cell_type": "code",
   "execution_count": 19,
   "id": "fa375c1b",
   "metadata": {},
   "outputs": [
    {
     "data": {
      "text/plain": [
       "2436"
      ]
     },
     "execution_count": 19,
     "metadata": {},
     "output_type": "execute_result"
    }
   ],
   "source": [
    "len(df)"
   ]
  },
  {
   "cell_type": "code",
   "execution_count": 20,
   "id": "a7e95edf",
   "metadata": {},
   "outputs": [
    {
     "name": "stdout",
     "output_type": "stream",
     "text": [
      "✅ Batch 0–256 done.\n",
      "✅ Batch 256–512 done.\n",
      "✅ Batch 512–768 done.\n",
      "✅ Batch 768–1024 done.\n",
      "✅ Batch 1024–1280 done.\n",
      "✅ Batch 1280–1536 done.\n",
      "✅ Batch 1536–1792 done.\n",
      "✅ Batch 1792–2048 done.\n",
      "✅ Batch 2048–2304 done.\n",
      "✅ Batch 2304–2560 done.\n"
     ]
    }
   ],
   "source": [
    "## batch embeddings\n",
    "batch_size = 256\n",
    "\n",
    "for i in range(0, len(df), batch_size):\n",
    "    batch_df = df.iloc[i:i+batch_size]\n",
    "\n",
    "    texts = batch_df['text'].tolist()\n",
    "    try:\n",
    "        vectors = list(model.embed(texts, batch_size=8))  # internal sub-batching\n",
    "    except Exception as e:\n",
    "        print(f\"Batch {i} failed: {e}\")\n",
    "        continue\n",
    "\n",
    "    points = [\n",
    "        models.PointStruct(\n",
    "            id=int(row['job_id']),\n",
    "            vector=vectors[j],\n",
    "            payload={\n",
    "                \"job_title\": row['title'],\n",
    "                \"company\": row['company_name'],\n",
    "                \"location\": row['location'],\n",
    "                \"description\": row['description'],\n",
    "                \"post_date\": row['original_listed_time'],\n",
    "                \"work_type\": row.get('formatted_work_type', 'unknown'),\n",
    "            }\n",
    "        )\n",
    "        for j, (_, row) in enumerate(batch_df.iterrows())\n",
    "    ]\n",
    "\n",
    "    try:\n",
    "        client.upsert(\n",
    "            collection_name=collection_name,\n",
    "            points=points\n",
    "        )\n",
    "        print(f\"✅ Batch {i}–{i+batch_size} done.\")\n",
    "    except Exception as e:\n",
    "        print(f\"❌ Upsert failed for batch {i}: {e}\")\n"
   ]
  },
  {
   "cell_type": "markdown",
   "id": "6ef00a13",
   "metadata": {},
   "source": [
    "#### Study Data Visually\n",
    "\n",
    "explore the uploaded data in the Qdrant Web UI at [http://localhost:6333/dashboard](http://localhost:6333/dashboard) to study semantic similarity visually.\n",
    "\n",
    "using the `Visualize` tab in the `jobs-collection` collection, we can view 948 points and see how they group together by meaning, additionally coloured by the location type.  \n",
    "\n",
    "To do that, run the following command:\n",
    "\n",
    "```json\n",
    "{\n",
    "  \"limit\": 948,\n",
    "  \"color_by\": {\n",
    "    \"payload\": \"location\"\n",
    "  }\n",
    "}\n",
    "```\n",
    "\n",
    "This 2D representation is the result of dimensionality reduction applied to `jina-embeddings`.\n",
    "\n",
    "![qdrant visual](imgs/visualize-qdrant.png)\n",
    "\n",
    "![qdrant visual](imgs/screenshot-qdrant-by-work-type.png)"
   ]
  },
  {
   "cell_type": "markdown",
   "id": "8e7c141f",
   "metadata": {},
   "source": [
    "## Step 6: Running a Similarity Search\n",
    "\n",
    "find the most similar `text` vector in Qdrant to a given query embedding - the most relevant answer to a given question.\n",
    "\n",
    "### How Similarity Search Works\n",
    "\n",
    "1. Qdrant compares the query vector to stored vectors (based on a vector index) using the distance metric defined when creating the collection.\n",
    "\n",
    "2. The closest matches are returned, ranked by similarity.\n",
    "\n",
    "> Vector index is built for **approximate** nearest neighbor (ANN) search, making large-scale vector search feasible.\n"
   ]
  },
  {
   "cell_type": "code",
   "execution_count": 34,
   "id": "9dc5362c",
   "metadata": {},
   "outputs": [],
   "source": [
    "##define a search function\n",
    "\n",
    "def search(query, limit=1):\n",
    "\n",
    "    results = client.query_points(\n",
    "        collection_name=collection_name,\n",
    "        query=models.Document( #embed the query text locally with \"jinaai/jina-embeddings-v2-small-en\"\n",
    "            text=query,\n",
    "            model=model_handle \n",
    "        ),\n",
    "        limit=limit, # top closest matches\n",
    "        with_payload=True #to get metadata in the results\n",
    "    )\n",
    "\n",
    "    return results"
   ]
  },
  {
   "cell_type": "code",
   "execution_count": 35,
   "id": "ca4979dc",
   "metadata": {},
   "outputs": [
    {
     "name": "stdout",
     "output_type": "stream",
     "text": [
      "{\n",
      "  \"job_id\": 3905868647,\n",
      "  \"company_name\": \"A Hiring Company\",\n",
      "  \"title\": \"LPN or RN Hospice Supportive Care - Night Shift - Sign On Bonus\",\n",
      "  \"description\": \"The Supportive Care Nurse provides one-to-one care at the bedside of terminally ill patients, based on an ongoing nursing assessment of need and in accordance with the established plan of care. Three 12 hour shifts per week including weekend rotation, this position is eligible for $5,000 bonus, see details below. Duties include:\\n\\u00b7 Provides compassionate end-of-life care in accordance with the individualized plan of care, with demonstrated ability to assess and respond to patient and family needs in a timely manner\\n\\u00b7 Educate patients and caregivers on end-of-life, services and other resources\\n\\u00b7 Document complex medical information using clinical tools, data and other information to complete assessment of patient needs\\n\\u00b7 Establishes professional and collaborative relationships with patients, families and providers utilizing strong written and verbal communication skills.\\n\\u00b7 Basic computer skills, including working knowledge of the Microsoft Office suite\\n\\u00b7 Night shift 8:00 pm - 8:00 am, three (3) shifts per week including every other weekend\\n\\u00b7 Care Site - private residences, nursing homes, assisted living facilities, in Kentucky and Ohio\\n\\u00b7 SIGN ON BONUS! **Bonus $2,500 after six months of full-time employment, and $2,500 after one year of full-time employment**\",\n",
      "  \"max_salary\": NaN,\n",
      "  \"pay_period\": NaN,\n",
      "  \"location\": \"Mount Orab, OH\",\n",
      "  \"company_id\": 101478385.0,\n",
      "  \"views\": 2.0,\n",
      "  \"med_salary\": NaN,\n",
      "  \"min_salary\": NaN,\n",
      "  \"formatted_work_type\": \"Full-time\",\n",
      "  \"applies\": NaN,\n",
      "  \"original_listed_time\": 1713538314000.0,\n",
      "  \"remote_allowed\": NaN,\n",
      "  \"job_posting_url\": \"https://www.linkedin.com/jobs/view/3905868647/?trk=jobs_biz_prem_srch\",\n",
      "  \"application_url\": \"https://www.click2apply.net/662284d70b9f5d7be4a28d23\",\n",
      "  \"application_type\": \"OffsiteApply\",\n",
      "  \"expiry\": 1716130280000.0,\n",
      "  \"closed_time\": NaN,\n",
      "  \"formatted_experience_level\": \"Entry level\",\n",
      "  \"skills_desc\": \" \\nPROFESSIONAL: Graduate of an accredited School of Nursing and current licensure, or eligibility to be licensed, in Kentucky and Ohio. At least one year of experience in a patient care position in a hospital, nursing home, or related health care facility preferred.\\nPERSONAL: Personal qualities of empathy, responsibility and dependability. Must demonstrate effective communication skills with team members, patients, providers, and family members. Must have ability to work independent of direct on-site supervision. Demonstrates leadership and teaching ability.\\nPHYSICAL JOB: Must arrange travel and be able to access client homes, nursing homes, hospitals, and other facilities independently. Must demonstrate proper use of personal protective equipment and observe universal precautions. Must be able to lift at least 50 pounds using proper body mechanics. Must have valid driver's license, current auto insurance and reliable transportation.\\n\\n\\n\\nPI48b4fba6bb2c-29463-32789537\",\n",
      "  \"listed_time\": 1713538314000.0,\n",
      "  \"posting_domain\": \"www.click2apply.net\",\n",
      "  \"sponsored\": 0,\n",
      "  \"work_type\": \"FULL_TIME\",\n",
      "  \"currency\": NaN,\n",
      "  \"compensation_type\": NaN,\n",
      "  \"normalized_salary\": NaN,\n",
      "  \"zip_code\": 45154.0,\n",
      "  \"fips\": 39015.0,\n",
      "  \"text\": \"LPN or RN Hospice Supportive Care - Night Shift - Sign On Bonus at A Hiring Company (Mount Orab, OH)\\n\\nThe Supportive Care Nurse provides one-to-one care at the bedside of terminally ill patients, based on an ongoing nursing assessment of need and in accordance with the established plan of care. Three 12 hour shifts per week including weekend rotation, this position is eligible for $5,000 bonus, see details below. Duties include:\\n\\u00b7 Provides compassionate end-of-life care in accordance with the individualized plan of care, with demonstrated ability to assess and respond to patient and family needs in a timely manner\\n\\u00b7 Educate patients and caregivers on end-of-life, services and other resources\\n\\u00b7 Document complex medical information using clinical tools, data and other information to complete assessment of patient needs\\n\\u00b7 Establishes professional and collaborative relationships with patients, families and providers utilizing strong written and verbal communication skills.\\n\\u00b7 Basic computer skills, including working knowledge of the Microsoft Office suite\\n\\u00b7 Night shift 8:00 pm - 8:00 am, three (3) shifts per week including every other weekend\\n\\u00b7 Care Site - private residences, nursing homes, assisted living facilities, in Kentucky and Ohio\\n\\u00b7 SIGN ON BONUS! **Bonus $2,500 after six months of full-time employment, and $2,500 after one year of full-time employment**\"\n",
      "}\n"
     ]
    }
   ],
   "source": [
    "## pick a random user input : skill + company\n",
    "\n",
    "import random\n",
    "sample_query = df.sample(n=1).iloc[0].to_dict()\n",
    "\n",
    "print(json.dumps(sample_query, indent=2))\n"
   ]
  },
  {
   "cell_type": "code",
   "execution_count": 36,
   "id": "346febf6",
   "metadata": {},
   "outputs": [
    {
     "data": {
      "text/plain": [
       "'Full-time at A Hiring Company'"
      ]
     },
     "execution_count": 36,
     "metadata": {},
     "output_type": "execute_result"
    }
   ],
   "source": [
    "query = f\"{sample_query['formatted_work_type']} at {sample_query['company_name']}\"\n",
    "query"
   ]
  },
  {
   "cell_type": "code",
   "execution_count": 37,
   "id": "35d97044",
   "metadata": {},
   "outputs": [],
   "source": [
    "query_vector = list(model.embed([query]))[0]\n"
   ]
  },
  {
   "cell_type": "code",
   "execution_count": 38,
   "id": "bcfb4fbd",
   "metadata": {},
   "outputs": [
    {
     "name": "stderr",
     "output_type": "stream",
     "text": [
      "C:\\Users\\User\\AppData\\Local\\Temp\\ipykernel_18992\\1364431547.py:2: DeprecationWarning: `search` method is deprecated and will be removed in the future. Use `query_points` instead.\n",
      "  search_result = client.search(\n"
     ]
    }
   ],
   "source": [
    "# perform search in qadrant\n",
    "search_result = client.search(\n",
    "    collection_name=\"jobs-collection\",\n",
    "    query_vector=query_vector,\n",
    "    limit=5  # number of similar results to retrieve\n",
    ")\n"
   ]
  },
  {
   "cell_type": "code",
   "execution_count": 39,
   "id": "495824da",
   "metadata": {},
   "outputs": [
    {
     "name": "stdout",
     "output_type": "stream",
     "text": [
      "ID: 3887495458, Score: 0.86819637\n",
      "{\n",
      "  \"job_title\": \"In-Store Shopper - Seasonal Part Time\",\n",
      "  \"company\": \"Whole Foods Market\",\n",
      "  \"location\": \"Massapequa Park, NY\",\n",
      "  \"description\": \"At Whole Foods Market, we\\u2019re committed to providing record-setting grocery delivery services to our Prime Now customers. This is a fast-growing program and candidates who are passionate about our quality products and great customer service will be a great fit. We think you\\u2019ll agree that it\\u2019s a great time to join #TeamWFM.As an In-Store Shopper, you\\u2019ll work on the Store Support team supporting Prime Now customer orders, preparing them for delivery and/or pickup. While our offerings will continue to evolve, you\\u2019ll shop throughout our store for everyday goods including food, household items, and so much more. Having a flexible schedule is key to meeting our customer\\u2019s needs. We especially need Team Members who like to work on Saturday and Sunday - our busiest times of the week! Shoppers with the ability to work nights, weekends, and holidays are preferred.\\n\\nAvailability Requirements\\n\\nTeam Members receive their schedule up to 3 weeks in advanceAverage shifts are 4-8 hours long\\n\\nJob Requirements\\n\\nComfort using handheld technology (mobile) device to fulfill ordersFulfills online orders efficiently, accurately and with a sense of urgencyDetail oriented, paying attention to product and order accuracyEagerness to learn product knowledge, customer service standards, and store operationsAbility to keep staging area organized and free of clutterWillingness to work in other departments of the store as required, e.g., customer service, cashier, grocery, etc.\\n\\nBasic Qualifications\\n\\nMust be at least 18 years oldAbility to read and speak basic EnglishAbility to lift up to 40 pounds, stand/walk for at least 6 hours, and be able to frequently push, pull, squat, bend, and reach with or without reasonable accommodationHigh School diploma or equivalent diploma\\n\\nPhysical Requirements / Working Conditions\\n\\nMust be able to lift 50 pounds.In an 8-hour work day: standing/walking 6-8 hours, sitting 1-4 hours.Hand use: single grasping, fine manipulation, pushing and pulling.Work requires the following motions: bending, twisting, squatting, and reaching.Exposure to FDA approved cleaning chemicals.Exposure to temperatures: 90 degrees Fahrenheit.Ability to work a flexible schedule including nights, weekends, and holidays as needed.Ability to use tools and equipment, including box cutters, electric pallet jacks, and other heavy machinery.May require use of ladders.\\n\\nNote: The purpose of this document is to provide a general summary of essential responsibilities for the position and is not meant as an exhaustive list. This document does not reflect all job duties or requirements for every position. Requirements build as one progresses through the job levels, so any job duties required at a lower level may be required at the higher level in addition to the duties listed for that higher level. Duties, assignments, and other responsibilities may differ for similar positions based on business conditions, departmental or geographic location, and/or needs for the particular position. An individual must demonstrate successful performance in their current position before being considered for promotion. In addition, in order to promote into a higher-level position, a business need for the promotion must exist and the candidate must be considered the most qualified person for the new position. Completion of certain milestones such as obtaining an advanced degree or certification, time in current position, or developing skills to perform at the higher-level role do not guarantee a promotion.\\n\\nThe wage range for this position is $17.00 - 21.20 USD Hourly, commensurate with experience. Whole Foods Market offers \\\"Whole Benefits\\\". Whole Benefits may include health insurance, retirement plan benefits, eligibility for a store discount, paid time off and access to other benefit programs. Eligibility for Whole Benefits is determined under the terms of the applicable Whole Benefits plan.\\n\\nNew entry level Team Members who successfully complete their first 90-days of employment and who remain actively employed in an eligible role, may be eligible for a base rate increase after their 90-day anniversary.\",\n",
      "  \"post_date\": 1712275200000.0,\n",
      "  \"work_type\": \"Part-time\"\n",
      "}\n",
      "ID: 3887494779, Score: 0.8635791\n",
      "{\n",
      "  \"job_title\": \"In-Store Shopper - Seasonal Part Time\",\n",
      "  \"company\": \"Whole Foods Market\",\n",
      "  \"location\": \"Chappaqua, NY\",\n",
      "  \"description\": \"At Whole Foods Market, we\\u2019re committed to providing record-setting grocery delivery services to our Prime Now customers. This is a fast-growing program and candidates who are passionate about our quality products and great customer service will be a great fit. We think you\\u2019ll agree that it\\u2019s a great time to join #TeamWFM.As an In-Store Shopper, you\\u2019ll work on the Store Support team supporting Prime Now customer orders, preparing them for delivery and/or pickup. While our offerings will continue to evolve, you\\u2019ll shop throughout our store for everyday goods including food, household items, and so much more. Having a flexible schedule is key to meeting our customer\\u2019s needs. We especially need Team Members who like to work on Saturday and Sunday - our busiest times of the week! Shoppers with the ability to work nights, weekends, and holidays are preferred.\\n\\nTeam Members receive their schedule up to 3 weeks in advanceAverage shifts are 4-8 hours long\\n\\nJob Requirements\\n\\nComfort using handheld technology (mobile) device to fulfill ordersFulfills online orders efficiently, accurately and with a sense of urgencyDetail oriented, paying attention to product and order accuracyEagerness to learn product knowledge, customer service standards, and store operationsAbility to keep staging area organized and free of clutterWillingness to work in other departments of the store as required, e.g., customer service, cashier, grocery, etc.\\n\\nBasic Qualifications\\n\\nMust be at least 18 years oldAbility to read and speak basic EnglishAbility to lift up to 40 pounds, stand/walk for at least 6 hours, and be able to frequently push, pull, squat, bend, and reach with or without reasonable accommodationHigh School diploma or equivalent diploma\\n\\nPhysical Requirements / Working Conditions\\n\\nMust be able to lift 50 pounds.In an 8-hour work day: standing/walking 6-8 hours, sitting 1-4 hours.Hand use: single grasping, fine manipulation, pushing and pulling.Work requires the following motions: bending, twisting, squatting, and reaching.Exposure to FDA approved cleaning chemicals.Exposure to temperatures: 90 degrees Fahrenheit.Ability to work a flexible schedule including nights, weekends, and holidays as needed.Ability to use tools and equipment, including box cutters, electric pallet jacks, and other heavy machinery.May require use of ladders.\\n\\nQuick Video of a Day in the Life of an In-Store Shopper at Whole Foods Market\\n\\nhttps://youtu.be/Im7p26qanoY\\n\\nThe wage range for this position is $16.50-20.95 Hourly [or Salaried], commensurate with experience. Whole Foods Market offers \\\"Whole Benefits\\\". Whole Benefits may include health insurance, retirement plan benefits, eligibility for a store discount, paid time off and access to other benefit programs. Eligibility for Whole Benefits is determined under the terms of the applicable Whole Benefits plan.\\n\\nNote: The purpose of this document is to provide a general summary of essential responsibilities for the position and is not meant as an exhaustive list. This document does not reflect all job duties or requirements for every position. Requirements build as one progresses through the job levels, so any job duties required at a lower level may be required at the higher level in addition to the duties listed for that higher level. Duties, assignments, and other responsibilities may differ for similar positions based on business conditions, departmental or geographic location, and/or needs for the particular position. An individual must demonstrate successful performance in their current position before being considered for promotion. In addition, in order to promote into a higher-level position, a business need for the promotion must exist and the candidate must be considered the most qualified person for the new position. Completion of certain milestones such as obtaining an advanced degree or certification, time in current position, or developing skills to perform at the higher-level role do not guarantee a promotion.\",\n",
      "  \"post_date\": 1712275200000.0,\n",
      "  \"work_type\": \"Part-time\"\n",
      "}\n",
      "ID: 3887495358, Score: 0.8617853\n",
      "{\n",
      "  \"job_title\": \"In-Store Shopper - Part Time Seasonal\",\n",
      "  \"company\": \"Whole Foods Market\",\n",
      "  \"location\": \"Jacksonville, FL\",\n",
      "  \"description\": \"At Whole Foods Market, we\\u2019re committed to providing record-setting grocery delivery services to our Prime Now customers. This is a fast-growing program and candidates who are passionate about our quality products and great customer service will be a great fit. We think you\\u2019ll agree that it\\u2019s a great time to join #TeamWFM.As an In-Store Shopper, you\\u2019ll work on the Store Support team supporting Prime Now customer orders, preparing them for delivery and/or pickup. While our offerings will continue to evolve, you\\u2019ll shop throughout our store for everyday goods including food, household items, and so much more. Having a flexible schedule is key to meeting our customer\\u2019s needs. We especially need Team Members who like to work on Saturday and Sunday - our busiest times of the week! Shoppers with the ability to work nights, weekends, and holidays are preferred.Your Step-by-Step Guide to Applying for this In-Store Shopper (Online Orders) Role.\\n\\n Apply - Read through the Job Description below. If interested, complete the application process. Offer - Our team will review your application and assessment. If you are selected, you will receive an Offer Letter via email. Make sure to Accept your Offer right away. The Offer Letter will contain information regarding your start date.\\n\\nAvailability Requirements\\n\\nTeam Members receive their schedule up to 3 weeks in advanceAverage shifts are 4-8 hours long\\n\\nJob Requirements\\n\\nComfort using handheld technology (mobile) device to fulfill ordersFulfills online orders efficiently, accurately and with a sense of urgencyDetail oriented, paying attention to product and order accuracyEagerness to learn product knowledge, customer service standards, and store operationsAbility to keep staging area organized and free of clutterWillingness to work in other departments of the store as required, e.g., customer service, cashier, grocery, etc.\\n\\nBasic Qualifications\\n\\nMust be at least 18 years oldAbility to read and speak basic EnglishAbility to lift up to 40 pounds, stand/walk for at least 6 hours, and be able to frequently push, pull, squat, bend, and reach with or without reasonable accommodationHigh School diploma or equivalent diploma\\n\\nPhysical Requirements / Working Conditions\\n\\nMust be able to lift 50 pounds.In an 8-hour work day: standing/walking 6-8 hours, sitting 1-4 hours.Hand use: single grasping, fine manipulation, pushing and pulling.Work requires the following motions: bending, twisting, squatting, and reaching.Exposure to FDA approved cleaning chemicals.Exposure to temperatures: 90 degrees Fahrenheit.Ability to work a flexible schedule including nights, weekends, and holidays as needed.Ability to use tools and equipment, including box cutters, electric pallet jacks, and other heavy machinery.May require use of ladders.\\n\\nQuick Video of a Day in the Life of an In-Store Shopper at Whole Foods Market\\n\\nhttps://youtu.be/Im7p26qanoY\\n\\nNew entry level Team Members who successfully complete their first 90-days of employment and who remain actively employed in an eligible role, may be eligible for a base rate increase after their 90-day anniversary.\",\n",
      "  \"post_date\": 1712275200000.0,\n",
      "  \"work_type\": \"Part-time\"\n",
      "}\n",
      "ID: 3886886206, Score: 0.8615246\n",
      "{\n",
      "  \"job_title\": \"On-Site Recruiter/ Dispatcher \",\n",
      "  \"company\": \"XL Pro Staffing and Consulting Group\",\n",
      "  \"location\": \"Dallas-Fort Worth Metroplex\",\n",
      "  \"description\": \"We are seeking an Onsite Recruiting Dispatcher to join our team! You will be working directly with the Senior Consulting Team & clients.\\nAbout the jobOn-Site Recruiting DispatcherHours: (5 AM-Finish) MUST BE FLEXIBLESchedule: Must be flexiblePay Rate: TBD based on previous experience.\\nExcellent Pay, Lots of Overtime Available, Weekly Incentives / Benefits, Will Be Provided with Company Cellphone & LaptopThis position will be in continuous evaluation for future growth for leads and management roles for ideal candidates.\\nMust be able to work a flexible schedule to include weekends and all operating hours as needed, based on client\\u2019s needs.\\nJob Description:On-Site Recruiting Dispatcher will organize client staffing requests & work closely with our recruiting team to fill requests promptly. Assist with scheduling, hiring process & onboarding at the client\\u2019s facility. Communicate with the Senior Consulting Team for updates on client requests for staffing needs. Will be posting on social media and responding to potential candidates for multiple cities & clients. Evaluate staffing strategies and plans with the Senior Consulting Team to ensure our client\\u2019s needs are being met.You will be provided with all the tools and resources, Company software, multiple social media platforms, technology, and more to be successful in your day-to-day recruiting responsibilities.You will be conducting phone interviews, in person interviews with candidates throughout the day. Collaborate with managers regularly and proactively identify future hiring needs. You should also be able to attract candidates using various sources, like social media networks and employee referrals.\\nResponsibilities and Duties:\\u00b7 Works onsite at the customer's facility\\u00b7 Actively recruit candidates via social media & direct to our offices for processing\\u00b7 On-board and introduce new employees to the client\\u00b7 Reports & maintains a healthy pipeline of candidates with our Senior Consulting Team\\u00b7 Organize potential candidates by location\\u00b7 Ability to understand customer's processes and effectively recruit candidates\\u00b7 Ensure compliance with company policies, attendance, and safety programs\\u00b7 Accurately maintain employee work files\\u00b7 Develops and maintains solid working relationships with individual managers of the client\\u00b7 Ability to follow up with multiple managers for staffing requirement needsQualifications and Skill Requirements:\\u00b7 Detailed Oriented\\u00b7 Strong multitasking and organizational skills\\u00b7 Must be flexible with schedule\\u00b7 The ability to work in a fast-paced environment\\u00b7 Written and verbal fluency in English and Spanish\\u00b7 The ability to work both independently and as part of a team\\u00b7 Previous experience as a bilingual recruiter preferred\\u00b7 Experience with recruitment databases, candidate sourcing tools, job sites, and LinkedIn promotion tactics.\\u00b7 Must have previous experience & knowledge of construction or project management in out door jobs\\nBenefits: \\u00b7 Holiday Pay\\u00b7 401K\\u00b7 100% Paid medical benefits.\\u00b7 Company laptop and phone provided\\u00b7 PT\",\n",
      "  \"post_date\": 1712665834000.0,\n",
      "  \"work_type\": \"Full-time\"\n",
      "}\n",
      "ID: 3887496219, Score: 0.8609134\n",
      "{\n",
      "  \"job_title\": \"In-Store Shopper - Part Time Seasonal\",\n",
      "  \"company\": \"Whole Foods Market\",\n",
      "  \"location\": \"Austin, TX\",\n",
      "  \"description\": \"At Whole Foods Market, we\\u2019re committed to providing record-setting grocery delivery services to our Prime Now customers. This is a fast-growing program and candidates who are passionate about our quality products and great customer service will be a great fit. We think you\\u2019ll agree that it\\u2019s a great time to join #TeamWFM.As an In-Store Shopper, you\\u2019ll work on the Store Support team supporting Prime Now customer orders, preparing them for delivery and/or pickup. While our offerings will continue to evolve, you\\u2019ll shop throughout our store for everyday goods including food, household items, and so much more. Having a flexible schedule is key to meeting our customer\\u2019s needs. We especially need Team Members who like to work on Saturday and Sunday - our busiest times of the week! Shoppers with the ability to work nights, weekends, and holidays are preferred.\\n\\nYour Step-by-Step Guide to Applying for this In-Store Shopper (Online Orders) Role.\\n\\n Apply - Read through the Job Description below. If interested, complete the application process. Offer - Our team will review your application and assessment. If you are selected, you will receive an Offer Letter via email. Make sure to Accept your Offer right away. The Offer Letter will contain information regarding your start date.\\n\\nAvailability Requirements\\n\\nTeam Members receive their schedule up to 3 weeks in advanceAverage shifts are 4-8 hours long\\n\\nJob Requirements\\n\\nComfort using handheld technology (mobile) device to fulfill ordersFulfills online orders efficiently, accurately and with a sense of urgencyDetail oriented, paying attention to product and order accuracyEagerness to learn product knowledge, customer service standards, and store operationsAbility to keep staging area organized and free of clutterWillingness to work in other departments of the store as required, e.g., customer service, cashier, grocery, etc.\\n\\nBasic Qualifications\\n\\nMust be at least 18 years oldAbility to read and speak basic EnglishHigh School diploma or equivalent diploma\\n\\nPhysical Requirements / Working Conditions\\n\\nMust be able to lift 50 pounds.In an 8-hour work day: standing/walking 6-8 hours, sitting 1-4 hours.Hand use: single grasping, fine manipulation, pushing and pulling.Work requires the following motions: bending, twisting, squatting, and reaching.Exposure to FDA approved cleaning chemicals.Exposure to temperatures: 90 degrees Fahrenheit.Ability to work a flexible schedule including nights, weekends, and holidays as needed.Ability to use tools and equipment, including box cutters, electric pallet jacks, and other heavy machinery.May require use of ladders.\\n\\nQuick Video of a Day in the Life of an In-Store Shopper at Whole Foods Market\\n\\nhttps://youtu.be/Im7p26qanoY\\n\\nNew entry level Team Members who successfully complete their first 90-days of employment and who remain actively employed in an eligible role, may be eligible for a base rate increase after their 90-day anniversary.\",\n",
      "  \"post_date\": 1712275200000.0,\n",
      "  \"work_type\": \"Part-time\"\n",
      "}\n"
     ]
    }
   ],
   "source": [
    "# view results\n",
    "for res in search_result:\n",
    "    print(f\"ID: {res.id}, Score: {res.score}\")\n",
    "    # If you stored payload like job title, company, etc.:\n",
    "    print(json.dumps(res.payload, indent=2))\n"
   ]
  },
  {
   "cell_type": "markdown",
   "id": "b57c5052",
   "metadata": {},
   "source": [
    "`score` – the cosine similarity between the `question` and `text` embeddings.\n"
   ]
  },
  {
   "cell_type": "markdown",
   "id": "8d90d2f8",
   "metadata": {},
   "source": [
    "now search for soemthing that wasnt in the initial dataset"
   ]
  },
  {
   "cell_type": "code",
   "execution_count": 40,
   "id": "6cc25c9f",
   "metadata": {},
   "outputs": [
    {
     "name": "stdout",
     "output_type": "stream",
     "text": [
      "\n",
      "Query: Full-time roles in Carolina\n",
      "ID: 3887710362, Score: 0.8444062\n",
      "{\n",
      "  \"job_title\": \"Database Administrator I\",\n",
      "  \"company\": \"N.C. Department of Information Technology\",\n",
      "  \"location\": \"Wake County, NC\",\n",
      "  \"description\": \"Description Of Work\\n\\nLooking to take the next step in your IT career?\\n\\nWe currently have an opening for a Database Administrator I\\n\\nThe position is designated Statutory Exempt and is exempt from the State Human Resources Act.\\n\\nThis is a time-limited position. It is full-time with State Benefits for a limited time. Although the length of time this position will be active cannot be determined, we anticipate that this position will be in place through December 31, 2026. If you have questions concerning the time-limited status of this position, you may inquire at the interview.\\n\\nThe Database Administrator I is responsible for the design, implementation, backup, and management of geospatial databases, and the data contained in them that becomes part of the NC Division of Broadband and Digital Equity (DBDE) work. The position is statewide in scope. The NC DBDE has a formal agreement with the Center for Geographic Information & Analysis (CGIA) to manage PostgreSQL enterprise databases related to broadband availability for over four million locations in the state, as well as tracking broadband grant locations throughout all 100 counties.\\n\\nManagement and administration of the Geographic Information Systems (GIS) data and databases includes the following tasks:\\n\\nSeeking and receiving regular updates to GIS data layers Performing quality control checks (e.g. projection, metadata, completeness) on the data before making it available to CGIA and DBDE customers Provides technical advice and direction to CGIA and the Division of Broadband and Digital Equity Responsible for data modeling, database optimization, implementation of schemas, and interpreting and writing complex Structured Query Language (SQL) queriesResolving any technical issues that may surface with any GIS data Developing and implementing GIS data archival, recovery, and access strategies Maintaining a GIS data inventory and clearinghouse through NC OneMap to facilitate discovery and access of GIS data resources Assessing technical requirements and implement technology enhancements and solutions based on customer feedback, technology trends, etc. (e.g. implementation and automation of relational database management system (PostgreSQL with the PostGIS extension) running in the Amazon Web Services (AWS) cloud) Resolving technical issues related to data delivery and availability and install and maintain patches for database and geospatial software Providing leadership in the long-term planning of the broadband location database Providing consultation to staff that are performing data creation and implementation activities related to database and enterprise activities \\n\\n\\nAvailability of the DBDE databases and the geospatial data in them is critical to understanding the broadband landscape in North Carolina. The Database Administrator will need to:\\n\\nAdminister a database to support the tracking of currently funded locations and identifying locations that are eligible for future funding programs Oversee data and database functions for tracking the progress of these programs and the overall progress of connecting all citizens in the state to this critical infrastructure Maintain a reliable database with reliable geospatial information that is continuously available to support essential stakeholder workflows and the transparency and success of the funding programs implemented by the DBDE Serve as a key technical resource in solving highly complex problems related to relational database management systems and Geographic Information Systems Track changes within Federal Communications Commission (FCC) datasets related to location-level availability of broadband Investigate, research, and implement new technical approaches and technologies associated with relational database management systems and Geographic Information Systems \\n\\n\\nAbout the Organization\\n\\nThe N.C. Department of Information Technology (NCDIT) serves as the Technology Center for the State of NC. Services that NCDIT provides reach a client base of state and local government agencies, as well as schools, colleges and universities. NCDIT\\u2019s mission is to enable trusted business-driven solutions that meet the needs of North Carolinians. NCDIT provides technology services to state agencies and is charged with closing the digital divide by expanding availability of broadband services and promoting the adoption of affordable, high-speed internet.\\n\\nAs NCDIT\\u2019s services reach North Carolina residents from all backgrounds, we believe that a diverse workforce is our most valuable asset to recognize, understand and meet the IT needs of our constituents across the state. Our agency culture intentionally values diversity, equity and inclusion through the implementation of thoughtful, practical, innovative and data-driven strategies. We are an Employment First state, ensuring that people with disabilities have equal opportunities to succeed in the state government workplace ( Executive Order 92 ). NCDIT supports recent executive orders to address pay equity for women ( Executive Order 93 ), establish paid parental leave for birth, adoption, and foster care ( Executive Order 95 ), and implement fair chance policies ( Executive Order 158 ). Join a team that welcomes, values, respects and supports all members of our work community.\\n\\nIf you have student loans, becoming a state employee includes eligibility for the Public Service Loan Forgiveness Program. Visit www.studentaid.gov to learn more.\\n\\nKnowledge, Skills And Abilities / Competencies\\n\\nResumes/CVs are intended to be used as a complement to an application. Generally resumes/CVs are lacking the detail and breadth of an applicant\\u2019s full education and work history so applicants should complete the application with more detail than what their resume contains to show that they meet both the Education Requirements and ALL Knowledge, Skills and Abilities (KSAs) listed below in order to qualify. Click these links for additional information:  Introduction to the Job Application  and  Addressing Knowledge, Skills and Abilities .\\n\\nTo qualify for this position, applicants must document on the application that they possess ALL of the following:\\n\\nDemonstrated experience with administration and/or structuring of an integrated database systemDemonstrated experience with applications analysis and/or programming techniquesExperience with the development of data automation routines and/or administration for large datasetsExperience working with underlying OS level technology that supports the database environmentExperience with implementing and administering data and/or database security techniques\\n\\n\\nMinimum Education And Experience Requirements\\n\\nBachelor's degree in Computer Science or an IT related field or a related curriculum from an appropriately accredited institution and one year of experience in programming and applications analysis including the design and maintenance of an integrated database system\\n\\nOR\\n\\nAssociate degree in Computer Science or an IT related field or a related curriculum from an appropriately accredited institution and two years of experience in programming and applications analysis including the design and maintenance of an integrated database system\\n\\nOR\\n\\nHigh School or General Educational Development (GED) diploma and five years of experience in programming and applications analysis including the design and maintenance of an integrated database system; or an equivalent combination of education and experience.\\n\\nSupplemental and Contact Information\\n\\nThe North Carolina Department of Information Technology (DIT) is an Equal Opportunity Employer who embraces an Employment First philosophy which consists of complying with all federal laws, state laws and Executive Orders.\\n\\nNCDIT uses the Merit-Based Recruitment and Selection Plan to fill posted positions. Hiring salary will be based on relevant qualifications, internal equity, and budgetary considerations pertinent to the advertised position.\\n\\n The Department of Information Technology will not accept \\\"See Resume\\\" or inserted text resumes in lieu of all work experience and education completed on the application.  Employment at NCDIT is contingent upon a satisfactory background check.  Applicants seeking Veteran's Preference must attach a DD form 214, Certificate of Release or Discharge from Active Duty, along with your application.  Applicants seeking National Guard Preference must attach a NGB 23A (RPAS) if you are a current member of the NC National Guard in good standing. If you are a former member of the NC National Guard who served for at least 6 years and was discharged under honorable conditions, you must attach either a DD256 or NGB 22.  Applicants applying for positions that require specific coursework, must upload and attach a copy of the transcript with their application.  Applicants with relevant professional certifications to the posted job must attach proof of active certification along with the information in the \\u201cCertificates and Licenses\\u201d section.  If applicants earned college credit hours but did not complete a degree program, they must attach an official transcript to each application to receive credit for this education .If applicants earned a foreign degree, foreign degrees require an official evaluation for U.S. equivalency, and must be submitted to Human Resources for verification. There are several organizations that perform this specialized service, feel free to use any service of your choosing. The National Association of Credential Evaluation Services (NACES) has several options on their website that can provide credential verification: https://www.naces.org/members \\n\\n\\n REMOTE WORK: \\n\\nWe trust our employees to be self-motivated and successful in hybrid/remote roles, thus NCDIT offers robust work from home options and variable work schedule flexibility.\\n\\n COMPENSATION & BENEFITS: \\n\\nThe state of North Carolina offers excellent comprehensive benefits. Employees can participate in health insurance options, standard and supplemental retirement plans, and the NCFlex program (numerous high-quality, low-cost benefits on a pre-tax basis). Employees also receive paid vacation, sick, and community service leave. In addition, paid parental leave is available to eligible employees.\\n\\nSome highlights include:\\n\\n The best funded pension plan/retirement system in the nation according to Moody\\u2019s Investor\\u2019s Service  Twelve (12) holidays/year  Fourteen (14) vacation days/year which increase as length of service increases and accumulate year-to-year  Twelve (12) sick days/year which are cumulative indefinitely  Longevity pay lump sum payout yearly based on length of service  401K, 457, and 403(b) plans \\n\\n\\n Learn more about employee perks/benefits: \\n\\n Why Work For NC?  NC OSHR: Benefits  NC OSHR: Total Compensation Calculator \\n\\n\\nTo apply for this position, please click the \\\"Apply\\\" link above (on the Government Jobs website) or visit https://www.governmentjobs.com/Applications/Index/northcarolina to complete an on-line application.\\n\\nDue to the volume of applications received, we are unable to provide information regarding the status of your application over the phone. To check the status of your application, please log in to your account and click \\\"Application Status.\\\" If you are selected for an interview, you will be contacted by management. If you are no longer under consideration, you will receive an email notification. If there are any questions about this posting other than your application status, please contact:\\n\\nNCDIT Human Resources\\n\\nSamika Lewis\\n\\nsamika.lewis@nc.gov\\n\\nFor technical issues with your application, please call the GovernmentJobs.com Applicant Support Help Line at 855-524-5627.\",\n",
      "  \"post_date\": 1712349340000.0,\n",
      "  \"work_type\": \"Full-time\"\n",
      "}\n",
      "ID: 3901631200, Score: 0.8406985\n",
      "{\n",
      "  \"job_title\": \"Center Manager\",\n",
      "  \"company\": \"Carolinas Staffing Solutions, Inc.\",\n",
      "  \"location\": \"Ocean Isle Beach, NC\",\n",
      "  \"description\": \"Carolinas Staffing is looking for a Center Manager in Ocean Isle Beach, NC!\\n\\n\\n\\nPrimary responsibility is to deliver world-class customer service to customers. This requires strong interpersonal skills, effective oral/written communication skills, and the ability to work well with others. We are looking for energetic, responsible, reliable, fast learners who have an outgoing personality and enjoy lots of customer contact to fill our customer service representative position.\\n\\n\\n\\nDuties: \\n\\n\\n To supervise and be responsible for the successful operation of the store.\\n Motivate, train and develop all center associates, focusing on excellent customer service and rapport building.\\n Ensure that center achieves its targeted revenue projections.\\n Pro-actively handles customer complaints and assist customers with problems to resolution.\\n Provide immediate feedback to center associates when you see discrepancies with them performing their job duties.\\n Accurately ensures daily close-out procedures and end of day checklist is completed.\\n\\n\\nRequirements:\\n\\n\\n You should either currently be a NC Notary Public or be eligible to become a Notary Public within 30 days of hire.\\n LOTS of customer contact.\\n Open/Close store.\\n Cross sell and up sell products and services.\\n Processing shipping transactions on POS/CMS system.\\n Producing copy and print jobs.\\n Sorting mail.\\n Packaging.\\n Notarizing documents.\\n Laminating/Binding.\\n Custom box and crate making.\\n Must be able to multi-task.\\n Attention to detail.\\n Will be required to complete online and in store training exercises.\\n Experience working at a retail postal service business is a plus.\\n\\n\\nStore Hours:\\n\\nMonday to Friday - 8am to 6:30pm\\n\\nSaturday - 10am to 4pm\\n\\nSunday - 11am to 4pm\\n\\nWeekend availability Saturday and Sunday are scheduled on a rotational basis.\\n\\n\\n\\nSalary: $16 -$18 per hour\\n\\n\\n\\nTo Apply: Email your resume or apply online.\\n\\n\\n\\nFor questions call the office nearest you or stop by one of our locations:\\n\\n\\n\\nShallotte Office: Phone: 910-754-5393\\n\\n4480 Main St, Shallotte, NC\\n\\n\\n\\nMyrtle Beach Office: Phone: 843-293-5400\\n\\n3691 Palmetto Pointe BLVD Suite 402 MB, SC\\n\\n\\n\\nWhiteville Office: Phone: 910-641-0031\\n\\n1727 S Madison St Whiteville, NC\\n\\nCompensation details: 16-18\",\n",
      "  \"post_date\": 1713208982000.0,\n",
      "  \"work_type\": \"Full-time\"\n",
      "}\n",
      "ID: 3901628294, Score: 0.8394184\n",
      "{\n",
      "  \"job_title\": \"Golf Course Maintenance/Greenskeeper\",\n",
      "  \"company\": \"Carolinas Staffing Solutions, Inc.\",\n",
      "  \"location\": \"North Carolina, United States\",\n",
      "  \"description\": \"Carolinas Staffing is looking for Full-time Greenskeepers in Southport, NC!\\n\\n\\n\\nPerforms a diverse range of activities involved in golf course maintenance and construction.\\n\\n\\n\\nJob Details:\\n\\n\\n Performs semi-skilled ground construction and maintenance work and related tasks as required.\\n Performs general landscape maintenance using handheld equipment.\\n Rakes and maintains sand bunkers.\\n Operates small machinery to assist with edging, trimming, and mowing.\\n Prepares soil beds for sod, seed, and vegetative material. Weed and debris clean up.\\n Assists with golf course set-up procedures.\\n Operates utility vehicles for hauling material and removing debris.\\n Performs skilled duties related to experience (pruning, plugging, etc.) Regular and reliable attendance.\\n Regularly stands, walks, sits, and uses hands, reaches with hands and arms. Occasionally climbs or balances; stoops, kneels, crawls or crouches.\\n Lifts up to 50 pounds.\\n Continually works in wet or humid conditions (non-weather) and works near moving mechanical part. Frequently works in outdoor weather conditions.\\n Occasionally works in extreme heat (non-weather).\\n\\n\\n\\n\\nRequirements:\\n\\n\\n Certificates/Licenses: Valid Driver's License. \\n Job Knowledge, Skill, and Ability. \\n Preferences: Ability to read and speak English.\\n\\n\\n\\n\\nShift:\\n\\n\\n Monday-Thursday, 6 am to 2 pm.\\n Friday 6 am - 10am.\\n Must work either a Saturday or Sunday 6 am to 9:30 am.\\n\\n\\nPay: $14.00/hr\\n\\n\\n\\n\\nTo Apply: Email your resume or apply online.\\n\\nFor questions call the office nearest you.\\n\\n\\n\\nShallotte Office: Phone: 910-754-5393\\n\\n4480 Main St, Shallotte, NC\\n\\n\\n\\nMyrtle Beach Office: Phone: 843-293-5400\\n\\n3691 Palmetto Pointe BLVD Suite 402 MB, SC\\n\\n\\n\\nWhiteville Office: Phone: 910-641-0031\\n\\n1727 S Madison St Whiteville, NC\\n\\n\\n\\nCompensation details: 13-14\",\n",
      "  \"post_date\": 1713208614000.0,\n",
      "  \"work_type\": \"Full-time\"\n",
      "}\n",
      "\n",
      "Query: Remote software engineering jobs\n",
      "ID: 3886820920, Score: 0.84258294\n",
      "{\n",
      "  \"job_title\": \"Senior Software Engineer\",\n",
      "  \"company\": \"CodeMonk\",\n",
      "  \"location\": \"United States\",\n",
      "  \"description\": \"Company:At CodeMonk, we\\u2019re venturing into new territories, shaping the future of diverse and decentralised teams. We know finding the right talents and teams is a major challenge in today\\u2019s skills market. That\\u2019s why we\\u2019re creating a gateway for companies to access the best global talents and teams that are agile and match their business needs.\\nThrough this platform, employers can efficiently and compliantly hire, manage, and pay flexible tech talents and teams anywhere in the world. While reducing costs significantly.\\nAs the world of tech work increasingly embraces a remote-first approach, we\\u2019re dedicated to redefining employer-employee working relationships. Our mission is to empower employees with better pay, the opportunity to build world-changing tech solutions, increased work flexibility, and a promising career path.\\nWebsite:http://www.codemonk.ai\\nSkills: HTML, CSS, JavaScript, React, Angular, Vue.js, Node.js, Python, PHP, Express.js, Django, Spring Boot, Laravel, MySQL, PostgreSQL, MongoDB, Redis, Git\\nKey Responsibilities:\\u2022 Lead the design, development, and maintenance of web applications, ensuring high performance, scalability, and reliability.\\u2022 Architect and implement frontend and backend solutions using modern web technologies.\\u2022 Collaborate with cross-functional teams to gather requirements and translate them into technical specifications.\\u2022 Mentor and guide junior developers, providing technical expertise and support.\\u2022 Conduct code reviews, enforce coding standards, and ensure code quality through best practices.\\u2022 Optimize application performance and troubleshoot issues to maintain system integrity.\\u2022 Stay updated with the latest trends and advancements in web development.\\u2022 Ensure adherence to web standards, accessibility, and usability guidelines.\\u2022 Proficiency in frontend technologies such as HTML, CSS, JavaScript, and modern JavaScript frameworks/libraries like React, Angular, or Vue.js.\\u2022 Strong understanding of backend technologies such as Node.js, Python, Java, or PHP, along with frameworks like Express.js, Django, Spring Boot, or Laravel.\\u2022 Experience with databases like MySQL, PostgreSQL, MongoDB, or Redis.\\u2022 Familiarity with version control systems like Git.\\u2022 Excellent problem-solving skills and attention to detail.\\u2022 Ability to communicate effectively and collaborate with cross-functional teams.\\u2022 Professional experience in web development or a related field.\\nWhy we think you'll love working with us:We are early stage and already a profitable venture.You will be part of the journey we\\u2019re on, so we offer equity options for important roles along with competitive salary.It will be an exciting stage to join as we are looking to raise our first substantial round this year.Beyond this, there\\u2019s plenty more that makes us a great place to work:We are fully remote company with flexible workingWe do not follow 9-5 and work when we are at our best30 days Paid Time OffRegular remote socials with global teamsRegular bounties and other campaigns for you to winPlus more rewards as we grow\",\n",
      "  \"post_date\": 1712645873000.0,\n",
      "  \"work_type\": \"Full-time\"\n",
      "}\n",
      "ID: 3884804043, Score: 0.84230137\n",
      "{\n",
      "  \"job_title\": \"Sr. Software Engineer - (Full Stack)\",\n",
      "  \"company\": \"Everest Consultants, Inc.\",\n",
      "  \"location\": \"Los Angeles, CA\",\n",
      "  \"description\": \"Job Title: Sr. Software EngineerJob Type: ContractDuration: 12monthsLocation: 100% RemotePay Rate: $65 - $80/hr \\n****Must currently reside and work out of one of the following states:  AZ CO FL IL MI MO NC OR TX WI to work in  PST time zones****\\n**No C2C or 1099 I/C available, must work our W-2**\\n**Must be authorized to work in the U.S**  \\n\\nSummary The Senior Software Developer works as part of a team responsible for participating in the design, development, and testing of healthcare/business related applications and products. Senior Software Developer primarily focus on more strategic development projects such as key new features or products.\\nThe Sr. Software developer is expected to identify as a full-stack developer with a strong focus on front-end development.\\nRequirementsParticipate in the development of healthcare/business related applications.Be part of a development team using modern development languages, Relational and NoSQL databasesMust have experience with backend development with Java and NoSQL.Strong experience with front end development with React is required.Experience with HTML5, CSS, and XMLMust have experience with UI frameworks with strong preference for Felt UI.Experience with healthcare is highly preferredWork with Product Owners and teams to drive features and specifications, architecture design, implementation, and other software development responsibilities.Works closely with in-house UX team to build out modern, responsive, intuitive interfaces.Create and update technical documentsProvides technical mentoring and knowledge sharing to Software Engineers.Contributes to business requirement definition and use case design as technical expert.Serves as a go-to person for technical questions, and provides mentoring and knowledge sharing to other Software Engineers at all levels.\\nThe following benefits are offered for this position: medical, dental, & vision insurance, short-term disability, life and AD&D insurance, and a 401(k) retirement plan.\",\n",
      "  \"post_date\": 1712361582000.0,\n",
      "  \"work_type\": \"Contract\"\n",
      "}\n",
      "ID: 3884836210, Score: 0.8416528\n",
      "{\n",
      "  \"job_title\": \"Remote .NET Developer\",\n",
      "  \"company\": \"Piper Companies\",\n",
      "  \"location\": \"United States\",\n",
      "  \"description\": \"Piper Companies is seeking a Fully Remote .NET Developer to join a growing Software Company. The .NET Developer will develop new modules and perform maintenance on application solutions.\\n\\nResponsibilities .NET Developer include:\\n\\nEngage the team and organizational colleagues to improve and resolve product development issues, achieve timely delivery, and promote product delivery goalsProvide feedback in all areas, but specifically for back-end development metrics that are relevant to the Agile release cycle (2-week sprints)Understand the business requirements and testing needs and translate them to technical requirementsWork alongside development managers and architects, participating in the development and documentation of the application architecture\\n\\nQualifications for the .NET Developer include: \\n\\n5+ years\\u2019 experience building commercial products using the .NET framework (C#, ASP.Net, MVC, Classic ASP)Understanding of cloud-based development and SCRUM/Agile MethodologyFamiliarity with GIT repositories and check-in proceduresOutstanding communication, collaboration, and leadership skillsBachelor\\u2019s degree in Computer Science or equivalent\\n\\nCompensation for the .NET Developer include:\\n\\nSalary Range: $100,000 - $120,000Full benefits: Paid Holidays, Healthcare, Dental, Vision, 401k\\n\\nKeywords:\\n\\nnet, .net developer, c#, c sharp, c #, dotnet, dot net, oop, object oriented programming, sql, t-sql, webapi, api, json, git, agile,\\n\\n\",\n",
      "  \"post_date\": 1712373302000.0,\n",
      "  \"work_type\": \"Full-time\"\n",
      "}\n",
      "\n",
      "Query: Marketing role in New York\n",
      "ID: 3888478728, Score: 0.85144997\n",
      "{\n",
      "  \"job_title\": \"Carolinas Regional Market Manager\",\n",
      "  \"company\": \"New York Life Insurance Company\",\n",
      "  \"location\": \"United States\",\n",
      "  \"description\": \"Location Designation: Fully Remote\\n\\nWhen you join New York Life, you\\u2019re joining a company that values career development, collaboration, innovation, and inclusiveness. We want employees to feel proud about being part of a company that is committed to doing the right thing. You\\u2019ll have the opportunity to grow your career while developing personally and professionally through various resources and programs. New York Life is a relationship-based company and appreciates how both virtual and in-person interactions support our culture.\\n\\nGBS\\n\\nJoin us as the Regional Market Manager for the Carolina market and its surrounding areas!\\n\\nAt New York Life Group Benefit Solutions, we're committed to fostering an inclusive environment where all individual's contributions are valued. As the Regional Market Manager, you'll lead a dedicated team of sales representatives, driving revenue growth and market penetration in our assigned territory. Your role is pivotal in building and nurturing long-term relationships with key producer partners for our Absence, Disability, and Life products, ensuring mutual success and satisfaction.\\n\\nPrincipal Duties & Responsibilities: \\n\\n Lead and mentor a team of professional sales employees across North and South Carolina.  Recruit and nurture sales talent, empowering them to exceed sales objectives.  Cultivate and maintain effective, long-term relationships with key Producers (Brokers/Consultants) within the territory, fostering quality partnerships and access to opportunities.  Conduct site visits and Capabilities Meetings with assigned Producers to achieve sales targets.  Develop and execute plans to increase opportunities and introduce products/services to targeted Producer partners.  Drive individual sales and production from selected agencies, ensuring alignment with organizational goals.  Collaborate with internal stakeholders to develop and execute sales plans, focusing on increasing revenue and market share.  Stay informed about product offerings, industry trends, and operational structures, enhancing your ability to identify and target sales growth opportunities.  Manage expense budgets effectively to optimize resources.  Stay abreast of current and emerging market changes/trends, collaborating with management to incorporate them into solutions. \\n\\n\\nEducation & Experience: \\n\\n Bachelor's degree in business administration or related field.  5 - 7+ years of successful experience in selling Group Benefits to brokers/employers, or equivalent combination of education and experience.  Life and Health Licenses required in all assigned areas. \\n\\n\\nJob Knowledge & Skills: \\n\\n Self-motivated with a proven track record in sales.  Proficiency in underwriting, risk analysis, and financials.  Exceptional presentation, oral, written, and interpersonal communication skills.  Results-oriented with a strong background in Employee Benefits, particularly Absence Management, Disability, and Life. \\n\\n\\nOrganizational Competencies: \\n\\n Acting with Integrity  Serving Customers  Supporting Change  Supporting Organizational Goals  Working with Diverse Populations \\n\\n\\nLeader Competencies: \\n\\n Demonstrating Initiative  Developing Talent  Managing Performance \\n\\n\\nWe encourage all qualified candidates to apply to this posting at your earliest convenience. We are an equal opportunity employer committed to diversity and inclusion.\\n\\nResidents of Colorado are hereby notified that the deadline to apply is 3 days from the Posting Date listed above.\\n\\n - EM1\\n\\n - HYBRID\\n\\n - REMOTE\\n\\nSalary range: $330,000 - $350,000+ (base salary + sales incentive)\\n\\nOvertime eligible: Exempt\\n\\nDiscretionary bonus eligible: No\\n\\nSales bonus eligible: Yes\\n\\nClick here to learn more about our benefits . Starting salary is dependent upon several factors including previous work experience, specific industry experience, and/or skills required.\\n\\nRecognized as one of Fortune\\u2019s World\\u2019s Most Admired Companies, New York Life is committed to improving local communities through a culture of employee giving and volunteerism, supported by the Foundation . We're proud that due to our mutuality, we operate in the best interests of our policy owners. We invite you to bring your talents to New York Life, so we can continue to help families and businesses \\u201cBe Good At Life.\\u201d To learn more, please visit LinkedIn , our Newsroom and the Careers page of www.NewYorkLife.com .\\n\\nJob Requisition ID: 90180\",\n",
      "  \"post_date\": 1711497600000.0,\n",
      "  \"work_type\": \"Full-time\"\n",
      "}\n",
      "ID: 3866844290, Score: 0.84854794\n",
      "{\n",
      "  \"job_title\": \"Marketing Manager\",\n",
      "  \"company\": \"THE WELL\",\n",
      "  \"location\": \"New York City Metropolitan Area\",\n",
      "  \"description\": \"Our StoryTHE WELL is your one-stop shop for wellness. We integrate modern medicine and ancient healing, focusing on whole-person care. Our services, products and experiences address the physical, mental and spiritual aspects of well-being to help you feel your best. We started THE WELL to help you make wellness part of your every day \\u2014 whether it\\u2019s kicking off a meditation practice or tackling a chronic health condition. Whatever your path may be, we\\u2019re here to guide you.\\nTHE WELL New YorkAdjacent to Union Square Park and just steps away from Fifth Avenue, THE WELL New York is an integrated wellness center in the heart of New York City. The 13,000-square-foot space brings together modern medicine and ancient healing practices that focus on whole-person health. The brand\\u2019s flagship location includes a full-service spa (featuring a steam room, dry and infrared saunas, as well as treatment rooms for bodywork and skin care), a functional medicine practice and health coaching, Chinese medicine and acupuncture, an organic wellness caf\\u00e9, yoga and meditation studios, a foot rub and IV therapy lounge and an innovative posture lab. Every detail of THE WELL \\u2014 thoughtful design, abundant amenities, expert-vetted products, well-sourced ingredients and more \\u2014 is meant to help you make wellness part of your every day. \\nLocation: 2 East 15th Street, New York, NY 10003\\nMARKETING MANAGERThe Marketing Manager supports the VP of Brand & Marketing in the planning & execution of marketing strategies for THE WELL brand and our Flagship location, THE WELL New York. This role assists in the development, management, execution and measurement of all aspects of the marketing, communications and branding strategies \\u2014 including but not limited to social media, websites, public relations, advertising, collateral, video / photography assets, graphic design, etc. \\u2014 that maximizes exposure in order to increase revenue, grow membership and maintain NPS goals.\\nThis role reports to the VP of Brand & Marketing. This is a remote, but NYC-based position that requires the ability to be at our NY location on occasion to oversee the successful implementation of key activations and marketing strategies.\\nIf you have a drive for success, a passion for wellness, a strong desire to work in a growing startup and are looking for a new and exciting career opportunity in design we want to hear from you.\\nThe ResponsibilitiesSupport and maintain sales & marketing strategies to meet key financial and brand objectives as well as maintain/enhance the image of THE WELL brand and THE WELL New YorkEvaluate guests' feedback, market conditions and competitor information to continually improve brand and marketing strategiesCoordinate and manage the execution of all marketing, advertising, promotional activities and social media campaignsWork closely with key department leads to develop branded materials, creative collateral and seasonal promotions (eg. signage, sales collateral, etc.)Manage content creation and coordinate photo/video shoots for THE WELL New York in partnership with Art DirectorManage all in-space messaging to members and guests including, but not limited to: front desk signage, electronic signage, in-space printed collateral, member newsletters, on-hold messages, confirmation emails, etc.Manage website's content management system to ensure information accuracyManage Google Business Listings in partnership with SEO team to ensure information accuracyAssist in managing all marketing agencies (includes: public relations, email marketing, social media, paid media, SEO) and compile / distribute monthly reportingPartner with Sales team to execute promotions and campaigns to target members, past guests and local community Serve as point of contact for Friends of THE WELL ambassador/influencer programOversee influencer and media visits, liaising with Operations Team to deliver the best possible experienceMake recommendations for future testing / optimization on offer, copy / messaging, targeting and segmentation, creative and communication touchpointsReport on and analyze the efficiency of strategies; evaluate results in the context of broader business goals; and make recommendations on how to move the business forward The Person We NeedBachelor's degree in Marketing or related field3-6 years of experience in Marketing and Communications \\u2014 ideally in hospitality, fitness or or wellness industriesDemonstrated ability to develop and maintain relationships with external and internal contacts (i.e. General Manager, Sales leadership, Media Representatives, Public Relations firms)Excellent communication and interpersonal skills with the ability to collaborate effectively with cross-functional teamsDemonstrated ability to develop and implement successful marketing strategies for individual hotels, including ROI / KPI metricsProficiency with creative programs such as Adobe Photoshop, Adobe Illustrator, CanvaAbility to multitask effectively, managing multiple projects while being cognizant of deadlines and priorities Benefits & PerksComprehensive benefits package including Medical, Dental, Vision & Supplemental Voluntary Insurance PlansFull-time & part-time paid time offCommuter benefitsPaid maternity & paternity leavePerks, gym & multiple service discountsProfessional development workshops & EAPCollaborative & pet-friendly HQ work environment Electronic StipendCompetitive salary and benefits packageOpportunities for professional growth and career advancementA supportive and inclusive work environment that values creativity and innovationThe chance to make a meaningful impact on the well-being of our clients through exceptional design experiences Salary Range$70,000 - $85,000\",\n",
      "  \"post_date\": 1713210757000.0,\n",
      "  \"work_type\": \"Full-time\"\n",
      "}\n",
      "ID: 3884916106, Score: 0.8438674\n",
      "{\n",
      "  \"job_title\": \"Sales Manager - Public Relations & Investor Relations - NYC\",\n",
      "  \"company\": \"Direct Sales Recruiting, LLC\",\n",
      "  \"location\": \"New York City Metropolitan Area\",\n",
      "  \"description\": \"Sales Manager - Public Relations & Investor Relations\\nOur client is a world leader that provides digital communication solutions and network services. They are seeking to hire a Sales Manager responsible for managing a new business development sales team, assessing sales strategies and meeting/exceeding sales goals. The ideal Sales Manager must have experience selling a solution-based sale and a consultative selling approach. Candidates coming from experience within Public Relations and/or Investor Relations will be considered.\\nRole must report to the NYC office 3 days/week.\\n\\nResponsibilities:\\nManage and develop a sales team (new business development)Ensure all sales goals are met and/or exceededCreate and implement strategic sales plans, promote sales growthEvaluate account management activity for team and sales performance; ensuring sales quotas/goals are metProvide sales and product training and sales development as neededIdentify strategies to support account management activitiesBuild and maintain customer relationshipsKeep well-informed of products/solutions, industry trends and new developments\\nRequirements:\\nBachelor\\u2019s DegreeMin. 2+ years of Sales Management experience (new business development team)Min. 5-7+ years Software Sales within Public Relations and/or Investor Relations requiredExperience selling a digital platform, PR and/or IR requiredProven success in managing, training and mentoring a sales teamDocumented Sales Success of meeting and achieving sales goalsStrong communication and presentation skillsProficient in Microsoft Office, CRMAbility to travel as needed within territory\\nOffering:\\nBase Salary $120,000+ (based on experience)Year 1 @ plan $185,000+Full Benefits PackageCareer Advancement\\n\\nDirect Sales Recruiting, LLC, (DSR) and DirectHR are National Recruitment organizations partnering with National, Regional and Local Clients to bring qualified candidates a career and a future. DSR offers over 50 years combined Recruitment, Sales and Management experience. We are, along with our clients, an Equal Opportunity Employer and are committed to hiring and supporting a diverse workforce. A M/F/D/V\",\n",
      "  \"post_date\": 1712345895000.0,\n",
      "  \"work_type\": \"Full-time\"\n",
      "}\n",
      "\n",
      "Query: Part-time retail assistant near Chicago\n",
      "ID: 3885112261, Score: 0.88267756\n",
      "{\n",
      "  \"job_title\": \"Retail Operations Manager\",\n",
      "  \"company\": \"Neighborly Shop\",\n",
      "  \"location\": \"Chicago, IL\",\n",
      "  \"description\": \"The Retail Operations Manager is responsible for overseeing the daily operations of Neighborly, making sure it runs smoothly and effectively. They will operate in direct support role to the business owner and location managers, and be responsible for managing the team of six to ten retail assistants who staff two brick and mortar locations in Wicker Park and Lincoln Square, and its seasonal location on the Chicago Riverwalk. They are enthusiastic, energetic, efficient, and kind, and are willing to wear a wide variety of hats expected in a small business. A \\u201cwork smarter\\u201d initiative is a must. \\nIn all, this role will be responsible for many facets of the business, from large, strategic projects like developing and implementing a sales training program to small, day-to-day physical tasks like transferring inventory between its locations.\\nDuties include: - Sales & Personnel: recruiting, motivating, and training the sales team- Marketing: assisting with marketing strategy, planning, and implementation- Customer Experience: create and implement a system for keeping the stores clean, stocked, organized, and merchandised, delegate tasks as needed- Assist Owner with Inventory Management: product discovery and purchasing, closely following sales data, home decor trends, sourcing new products, inventory planning, etc.- Community Outreach: vendor relationship management and development, community outreach and promotions, special event management Key responsibilities:PERSONNEL & COMMUNICATIONRecruit, hire, train, and manage retail associates. Manage store staffing and shop hours.Lead regular staff meetings, ongoing training, and team-building activities.Manage performance development including reviews, individual development plans and disciplinary action for a productive, inspired, and successful team.LEADERSHIP & OPERATIONSAssist in development and roll-out of all new training program and operational initiatives.Maintain our employee handbook and store processes guides. Direct sales associates on special projects during down time. Uphold Company standards and act as a mentor, teacher and positive role model to others.CUSTOMER RELATIONSHIPS Oversee all levels of customer service and ensure a positive store environment.Facilitate campaigns to honor customer loyalty and show appreciation. STORE PRESENTATION & MERCHANDISINGExhibit excellent floor presence by leading by example and coaching the store team on customer service, merchandising, and time management standards.Assist in seasonal merchandising plans and implementation of product and window displaysOversee Location Managers to ensure prompt ordering of store supplies, notification of maintenance issues, and successful execution of their other duties.PROMOTIONS In collaboration with Owner, plan and execute store sales and seasonal promotions.Coordinate logistics and staff for in-store and offsite events and experiences.Contribute content for social media and email newslettersAssist with implementation of marketing collateral. BUYING & INVENTORY PLANNINGIn collaboration with Owner, discover new vendors and products by closely following home decor and design trends, may include attending trade shows and markets from time to time.Plan inventory ordering for holidays, seasons, and special promotions.Place purchase orders, assist retail associates with receiving new product and resolving order issues.Special projects as assigned. Key skills:Enjoys building a rapport and anticipates the needs of employees and customersExcellent communication in all formsOrganized & thoughtfulResourceful & adaptable, DIY/bootstrap mentalityStrong team builderCreative problem-solver and efficient time managementConsistent, self-driven follow-throughEnthusiastic & friendly, particularly to the team and customersConfidence to speak their mind, yet receptive to criticism. Leaves any ego at the doorThis position can be somewhat tailored to candidate\\u2019s strengths and past experiences.  Schedule and Compensation: Neighborly offers a non-traditional work schedule to be roughly 80% of full time, but does require evening and weekend availability. Weekend assistance from Thanksgiving to Christmas will be required, as well as approximately 6-8 additional weekend needs the remainder of the year.- 30 hours per week, roughly 10 months of the year- 45 hours per week November and December- Ability to work 1-2 days per week on-site, staffing the stores (11a-7p) and 1 additional day transporting goods between locations and visiting retail associates, with remaining days as a work from home option once acclimated.\\nNeighborly offers competitive compensation, including benefits such as health insurance, retirement plan, paid time off, and employee discounts.  Requirements: Candidates with experience and strengths in one or more of the following areas are preferred: human relations both internal (team building) and external (customers, vendors, and community), retail merchandising, boutique marketing strategy, retail or sales leader and/or training leader.\\n- At least 5 years working in a boutique, customer-centered retail environment. Retail team management experience strongly preferred.- Commitment to contributing to an inclusive and safe working environment.- Avid fan of independently made goods and believer in eco-friendly and ethically sourced products.- Demonstrated support of local craft and design communities.- Must bend, reach and stretch for products as well as lift, carry and move boxes that weigh up to 20 pounds, and be comfortable doing so on a regular basis.- Driver\\u2019s license required, personal vehicle use not required.- Ability to work flexible hours to meet the needs of the store.\",\n",
      "  \"post_date\": 1712441550000.0,\n",
      "  \"work_type\": \"Full-time\"\n",
      "}\n",
      "ID: 3886466632, Score: 0.8777375\n",
      "{\n",
      "  \"job_title\": \"Retail Sales Associate Part Time\",\n",
      "  \"company\": \"Jos. A. Bank Clothiers\",\n",
      "  \"location\": \"Livonia, MI\",\n",
      "  \"description\": \"Retail Sales Associate \\u2013 Part-time \\n\\nWe invest in our people and continuously work towards fostering an inspirational, inclusive, and innovative culture, so that every team member has a true sense of belonging. We help people confidently express their true selves so they can be their best. \\n\\nWe Have Immediate Openings \\u2013 Start Right Away! \\n\\n Competitive hourly rates Flexible schedules to meet your availability! Tuition reimbursement Generous employee discount on first purchase Ongoing discounts on purchase made at any Tailored Brands store.\\n\\nWhat You Bring\\n\\n Customer service \\u2013 or as we call it \\u2013 culture of customer-obsession by being customer-ready and delivering a world-class experience every day Desire to learn and adapt to new programs Ability to work well and consult with retail sales associates at all levels and contribute to a positive work environment\\n\\nOur Retail Sales Associates are responsible for all aspects of the customer experience within multiple businesses (retail, rental, custom, and omni-channel) within a store location including, but not limited to:\\n\\n Engage as a member of a high-performing team through trust, commitment, and a focus on results. Build a relationship with your customer from greeting through post-sale contact. Consistently demonstrate the benchmark selling techniques for retail sales, custom clothing sales, and special occasion rentals. Continuously encourage and participate in team selling and positively impact the achievement of the store sales volume and metrics goals. Assist with visually merchandising, set up, and other store-related projects, as well as conducting merchandise stock counts. Handle the cash register, as a cashier, at the point of sale in the store.\\n\\nPhysical Requirements\\n\\n Ability to stand and walk for the majority of work shift, frequently bend, squat and twist, lift up to 50 lbs., climb a ladder to reach merchandise and or supplies, and see and distinguish between fabric patterns and colors.\\n\\nYou may have the opportunity to voluntarily work between multiple store or site locations, and across multiple brands. \\n\\nReasonable accommodations may be made to enable individuals with disabilities to perform the essential functions\\n\\nOur company celebrates diversity and provides equal employment opportunity to all applicants and employees without regard to race, color, sex, sexual orientation, gender identity or expression, national origin, religion, veteran or military status, age, physical or mental disability, marital status, or any other protected status under the law.\\n\\nWork Locations: 00051 Laurel Park 37674 6 Mile Rd Livonia 48152\\n\\nJob: Sales\\n\\nOrganization: JoS.A.Bank\\n\\nShift: Variable\\n\\nZone: Midwest\",\n",
      "  \"post_date\": 1712635763000.0,\n",
      "  \"work_type\": \"Part-time\"\n",
      "}\n",
      "ID: 3887838234, Score: 0.8699155\n",
      "{\n",
      "  \"job_title\": \"Administrative Assistant - Sales\",\n",
      "  \"company\": \"Tom James Company\",\n",
      "  \"location\": \"New York, NY\",\n",
      "  \"description\": \"At the Tom James Company, an Assistant supports our sales team members, store leaders, and key organizational leaders in fulfilling our mission to be a global leader in the fashion industry. An Assistant is a valued member of the Tom James sales support team.\\n\\nWe currently have a part-time opening in our New York, NY office. Our position is for 25 hours per week at $21 per hour.\\n\\nJob Responsibilities\\n\\nPreparing for daily client visitsPrepping clothing to be deliveredLocating necessary client information (A/R balances, sales sheet)Updating sales materials regarding fabrics/optionsCoordinating and maintaining all client orders/filesCommunicating with clients:Setting up appointmentsProviding status of ordersScheduling deliveriesSending remindersSupporting the sales efforts of the sales professional by:Communicating regularly with the sales professional and other members of the store teamMeeting with the sales professional to set goalsManaging daily calendarOrganizing inventoryPursuing efficiencies for processes and communicationPicking up and delivering client items as neededProspecting new clients using internet and social media applications Entering referrals into proprietary systemSending introductory and promotional messagesCreating call lists/hot listsDelivering exceptional customer service when contacting factories, corporate office, clients and outside vendorsMaintaining a professional image to interface with corporate clients\\n\\nA Successful Candidate Fits The Following Criteria\\n\\nConfident, independent workerStrong communication skills (verbal, written, listening)Excellent organizational skillsOutstanding time management skillsProfessional customer service skillsSocial Media savvy (especially on LinkedIn & Instagram)Proficient using multiple forms of technology including Microsoft Office; Google Docs, Sheets, FormsPossesses basic accounting skills (such as balancing accounts)Enjoys being flexible and multitaskingMotivated to tackle challengesYearns to work in a fast-paced team environmentAble to bend and lift up to 20 lbs.Valid Driver\\u2019s License requires (Exception: larger metropolitan areas)Two years office-related experience is preferred.Experience with a sales-oriented environment is a plus!\",\n",
      "  \"post_date\": 1712361794000.0,\n",
      "  \"work_type\": \"Part-time\"\n",
      "}\n"
     ]
    },
    {
     "name": "stderr",
     "output_type": "stream",
     "text": [
      "C:\\Users\\User\\AppData\\Local\\Temp\\ipykernel_18992\\2352260996.py:10: DeprecationWarning: `search` method is deprecated and will be removed in the future. Use `query_points` instead.\n",
      "  results = client.search(collection_name=\"jobs-collection\", query_vector=query_vector, limit=3)\n"
     ]
    }
   ],
   "source": [
    "queries = [\n",
    "    \"Full-time roles in Carolina\",\n",
    "    \"Remote software engineering jobs\",\n",
    "    \"Marketing role in New York\",\n",
    "    \"Part-time retail assistant near Chicago\",\n",
    "]\n",
    "\n",
    "for q in queries:\n",
    "    query_vector = list(model.embed([q]))[0]\n",
    "    results = client.search(collection_name=\"jobs-collection\", query_vector=query_vector, limit=3)\n",
    "    print(f\"\\nQuery: {q}\")\n",
    "    for r in results:\n",
    "        print(f\"ID: {r.id}, Score: {r.score}\")\n",
    "        print(json.dumps(r.payload, indent=2))\n"
   ]
  },
  {
   "cell_type": "code",
   "execution_count": 41,
   "id": "6f349adf",
   "metadata": {},
   "outputs": [
    {
     "name": "stdout",
     "output_type": "stream",
     "text": [
      "\n",
      "Query: Customer Service jobs in NC\n",
      "Top Match Score: 0.8813038\n",
      "Top Match Title: Customer Service Representative\n",
      "\n",
      "Query: Marine biologist in Iceland\n",
      "Top Match Score: 0.7740206\n",
      "Top Match Title: Administrative Assistant\n"
     ]
    },
    {
     "name": "stderr",
     "output_type": "stream",
     "text": [
      "C:\\Users\\User\\AppData\\Local\\Temp\\ipykernel_18992\\1893995750.py:6: DeprecationWarning: `search` method is deprecated and will be removed in the future. Use `query_points` instead.\n",
      "  result = client.search(collection_name=\"jobs-collection\", query_vector=vector, limit=1)\n"
     ]
    }
   ],
   "source": [
    "similar = \"Customer Service jobs in NC\"\n",
    "random = \"Marine biologist in Iceland\"\n",
    "\n",
    "for q in [similar, random]:\n",
    "    vector = list(model.embed([q]))[0]\n",
    "    result = client.search(collection_name=\"jobs-collection\", query_vector=vector, limit=1)\n",
    "    print(f\"\\nQuery: {q}\")\n",
    "    print(f\"Top Match Score: {result[0].score}\")\n",
    "    print(f\"Top Match Title: {result[0].payload['job_title']}\")\n"
   ]
  },
  {
   "cell_type": "code",
   "execution_count": 42,
   "id": "1de9700d",
   "metadata": {},
   "outputs": [
    {
     "name": "stdout",
     "output_type": "stream",
     "text": [
      "Job Title: Warehouse Operations Manager\n",
      "Company: Clayton Services\n",
      "Work Type: Full-time\n",
      "Description snippet: Clayton Services is searching for a  Warehouse Operations Manager to join a thriving company in Northwest Houston. The Warehouse Operations Manager will be responsible for site management, including safety, shipping and receiving, warehousing, invent\n"
     ]
    },
    {
     "name": "stderr",
     "output_type": "stream",
     "text": [
      "C:\\Users\\User\\AppData\\Local\\Temp\\ipykernel_18992\\152537085.py:3: DeprecationWarning: `search` method is deprecated and will be removed in the future. Use `query_points` instead.\n",
      "  res = client.search(collection_name=\"jobs-collection\", query_vector=vec, limit=1)\n"
     ]
    }
   ],
   "source": [
    "sample_query = \"Warehouse job in Texas\"\n",
    "vec = list(model.embed([sample_query]))[0]\n",
    "res = client.search(collection_name=\"jobs-collection\", query_vector=vec, limit=1)\n",
    "payload = res[0].payload\n",
    "print(f\"Job Title: {payload.get('job_title')}\")\n",
    "print(f\"Company: {payload.get('company')}\")\n",
    "print(f\"Work Type: {payload.get('work_type')}\")\n",
    "print(f\"Description snippet: {payload.get('description', '')[:250]}\")\n"
   ]
  },
  {
   "cell_type": "code",
   "execution_count": 43,
   "metadata": {},
   "outputs": [
    {
     "name": "stdout",
     "output_type": "stream",
     "text": [
      "Score: 0.8811095\n",
      "Job Title: Data Analyst\n",
      "Company: Insight Global\n",
      "Location: United States\n",
      "--------------------------------------------------\n",
      "Score: 0.85574645\n",
      "Job Title: SAS SQL Consultant\n",
      "Company: Motion Recruitment\n",
      "Location: United States\n",
      "--------------------------------------------------\n",
      "Score: 0.85463935\n",
      "Job Title: Data Specialist\n",
      "Company: Centene\n",
      "Location: United States\n",
      "--------------------------------------------------\n"
     ]
    },
    {
     "name": "stderr",
     "output_type": "stream",
     "text": [
      "C:\\Users\\User\\AppData\\Local\\Temp\\ipykernel_18992\\1555842905.py:3: DeprecationWarning: `search` method is deprecated and will be removed in the future. Use `query_points` instead.\n",
      "  results = client.search(collection_name=\"jobs-collection\", query_vector=vec, limit=top_k)\n"
     ]
    }
   ],
   "source": [
    "def search_jobs(query, top_k=3):\n",
    "    vec = list(model.embed([query]))[0]\n",
    "    results = client.search(collection_name=\"jobs-collection\", query_vector=vec, limit=top_k)\n",
    "    for res in results:\n",
    "        print(f\"Score: {res.score}\")\n",
    "        print(f\"Job Title: {res.payload['job_title']}\")\n",
    "        print(f\"Company: {res.payload['company']}\")\n",
    "        print(f\"Location: {res.payload['location']}\")\n",
    "        print('-' * 50)\n",
    "\n",
    "# Example usage:\n",
    "search_jobs(\"Remote data analyst position\")\n"
   ]
  },
  {
   "cell_type": "code",
   "execution_count": 50,
   "id": "b4acda4f",
   "metadata": {},
   "outputs": [
    {
     "name": "stderr",
     "output_type": "stream",
     "text": [
      "[NbConvertApp] Searching ['C:\\\\Users\\\\User\\\\.jupyter', 'C:\\\\Users\\\\User\\\\AppData\\\\Roaming\\\\Python\\\\etc\\\\jupyter', 'C:\\\\Users\\\\User\\\\AppData\\\\Local\\\\Programs\\\\Python\\\\Python311\\\\etc\\\\jupyter', 'C:\\\\ProgramData\\\\jupyter'] for config files\n",
      "[NbConvertApp] Looking for jupyter_config in C:\\ProgramData\\jupyter\n",
      "[NbConvertApp] Looking for jupyter_config in C:\\Users\\User\\AppData\\Local\\Programs\\Python\\Python311\\etc\\jupyter\n",
      "[NbConvertApp] Looking for jupyter_config in C:\\Users\\User\\AppData\\Roaming\\Python\\etc\\jupyter\n",
      "[NbConvertApp] Looking for jupyter_config in C:\\Users\\User\\.jupyter\n",
      "[NbConvertApp] Looking for jupyter_nbconvert_config in C:\\ProgramData\\jupyter\n",
      "[NbConvertApp] Looking for jupyter_nbconvert_config in C:\\Users\\User\\AppData\\Local\\Programs\\Python\\Python311\\etc\\jupyter\n",
      "[NbConvertApp] Looking for jupyter_nbconvert_config in C:\\Users\\User\\AppData\\Roaming\\Python\\etc\\jupyter\n",
      "[NbConvertApp] Looking for jupyter_nbconvert_config in C:\\Users\\User\\.jupyter\n",
      "[NbConvertApp] Looping through config variables with prefix \"JUPYTER_NBCONVERT\"\n",
      "[NbConvertApp] Converting notebook vector_search_qdrant.ipynb to script\n",
      "[NbConvertApp] Notebook name is 'vector_search_qdrant'\n",
      "C:\\Users\\User\\AppData\\Local\\Programs\\Python\\Python311\\Lib\\site-packages\\nbformat\\__init__.py:96: MissingIDFieldWarning: Cell is missing an id field, this will become a hard error in future nbformat versions. You may want to use `normalize()` on your notebooks before validations (available since nbformat 5.1.4). Previous versions of nbformat are fixing this issue transparently, and will stop doing so in the future.\n",
      "  validate(nb)\n",
      "[NbConvertApp] Loading script exporter: python\n",
      "[NbConvertApp] Applying preprocessor: TagRemovePreprocessor\n",
      "[NbConvertApp] Applying preprocessor: RegexRemovePreprocessor\n",
      "[NbConvertApp] Attempting to load template index.py.j2\n",
      "[NbConvertApp]     template_paths: C:\\Users\\User\\AppData\\Local\\Programs\\Python\\Python311\\share\\jupyter\\nbconvert\\templates\\python;C:\\Users\\User\\AppData\\Local\\Programs\\Python\\Python311\\share\\jupyter\\nbconvert\\templates\\base;C:\\Users\\User\\AppData\\Roaming\\jupyter;C:\\Users\\User\\AppData\\Roaming\\jupyter\\nbconvert\\templates;C:\\Users\\User\\AppData\\Roaming\\jupyter\\nbconvert\\templates\\compatibility;C:\\Users\\User\\AppData\\Roaming\\Python\\share\\jupyter;C:\\Users\\User\\AppData\\Roaming\\Python\\share\\jupyter\\nbconvert\\templates;C:\\Users\\User\\AppData\\Roaming\\Python\\share\\jupyter\\nbconvert\\templates\\compatibility;C:\\Users\\User\\AppData\\Local\\Programs\\Python\\Python311\\share\\jupyter;C:\\Users\\User\\AppData\\Local\\Programs\\Python\\Python311\\share\\jupyter\\nbconvert\\templates;C:\\Users\\User\\AppData\\Local\\Programs\\Python\\Python311\\share\\jupyter\\nbconvert\\templates\\compatibility;C:\\ProgramData\\jupyter;C:\\ProgramData\\jupyter\\nbconvert\\templates;C:\\ProgramData\\jupyter\\nbconvert\\templates\\compatibility;C:\\Users\\User\\AppData\\Local\\Programs\\Python\\Python311\\share\\jupyter\\nbconvert\\templates\n",
      "[NbConvertApp] Template paths:\n",
      "\tC:\\Users\\User\\AppData\\Local\\Programs\\Python\\Python311\\share\\jupyter\\nbconvert\\templates\\python\n",
      "\tC:\\Users\\User\\AppData\\Local\\Programs\\Python\\Python311\\share\\jupyter\\nbconvert\\templates\\base\n",
      "\tC:\\Users\\User\\AppData\\Roaming\\jupyter\n",
      "\tC:\\Users\\User\\AppData\\Roaming\\jupyter\\nbconvert\\templates\n",
      "\tC:\\Users\\User\\AppData\\Roaming\\jupyter\\nbconvert\\templates\\compatibility\n",
      "\tC:\\Users\\User\\AppData\\Roaming\\Python\\share\\jupyter\n",
      "\tC:\\Users\\User\\AppData\\Roaming\\Python\\share\\jupyter\\nbconvert\\templates\n",
      "\tC:\\Users\\User\\AppData\\Roaming\\Python\\share\\jupyter\\nbconvert\\templates\\compatibility\n",
      "\tC:\\Users\\User\\AppData\\Local\\Programs\\Python\\Python311\\share\\jupyter\n",
      "\tC:\\Users\\User\\AppData\\Local\\Programs\\Python\\Python311\\share\\jupyter\\nbconvert\\templates\n",
      "\tC:\\Users\\User\\AppData\\Local\\Programs\\Python\\Python311\\share\\jupyter\\nbconvert\\templates\\compatibility\n",
      "\tC:\\ProgramData\\jupyter\n",
      "\tC:\\ProgramData\\jupyter\\nbconvert\\templates\n",
      "\tC:\\ProgramData\\jupyter\\nbconvert\\templates\\compatibility\n",
      "\tC:\\Users\\User\\AppData\\Local\\Programs\\Python\\Python311\\share\\jupyter\\nbconvert\\templates\n",
      "[NbConvertApp] Writing 11921 bytes to vector_search_qdrant.py\n"
     ]
    }
   ],
   "source": [
    "!jupyter nbconvert --to script \"vector_search_qdrant.ipynb\" --log-level=DEBUG\n"
   ]
  },
  {
   "cell_type": "code",
   "execution_count": 32,
   "id": "32b330ab",
   "metadata": {},
   "outputs": [
    {
     "data": {
      "text/plain": [
       "['.git',\n",
       " '.gitignore',\n",
       " 'backend',\n",
       " 'data',\n",
       " 'fast-api-def.py',\n",
       " 'frontend',\n",
       " 'imgs',\n",
       " 'Pipfile',\n",
       " 'prom.txt',\n",
       " 'qdrant_storage',\n",
       " 'README-vector-search-branch.md',\n",
       " 'README.md',\n",
       " 'requirements.txt',\n",
       " 'vector_search_qdrant.ipynb']"
      ]
     },
     "execution_count": 32,
     "metadata": {},
     "output_type": "execute_result"
    }
   ],
   "source": [
    "import os\n",
    "os.listdir()"
   ]
  },
  {
   "cell_type": "code",
   "execution_count": null,
   "id": "50ee799e",
   "metadata": {},
   "outputs": [
    {
     "name": "stdout",
     "output_type": "stream",
     "text": [
      " Volume in drive C has no label.\n",
      " Volume Serial Number is 0695-04C5\n",
      "\n",
      " Directory of c:\\Users\\User\\GitHub\\career_recommendation_system\n",
      "\n",
      "07/27/2025  12:17 AM           155,135 vector_search_qdrant.ipynb\n",
      "               1 File(s)        155,135 bytes\n",
      "               0 Dir(s)  145,859,026,944 bytes free\n"
     ]
    }
   ],
   "source": [
    "! *.ipynb\n"
   ]
  },
  {
   "cell_type": "code",
   "execution_count": null,
   "id": "c6ecd2db",
   "metadata": {},
   "outputs": [],
   "source": []
  }
 ],
 "metadata": {
  "kernelspec": {
   "display_name": "Python (Career Recommendation)",
   "language": "python",
   "name": "career_recommendation_system"
  },
  "language_info": {
   "codemirror_mode": {
    "name": "ipython",
    "version": 3
   },
   "file_extension": ".py",
   "mimetype": "text/x-python",
   "name": "python",
   "nbconvert_exporter": "python",
   "pygments_lexer": "ipython3",
   "version": "3.11.2"
  }
 },
 "nbformat": 4,
 "nbformat_minor": 5
}
